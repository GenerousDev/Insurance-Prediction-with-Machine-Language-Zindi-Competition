{
 "metadata": {
  "language_info": {
   "codemirror_mode": {
    "name": "ipython",
    "version": 3
   },
   "file_extension": ".py",
   "mimetype": "text/x-python",
   "name": "python",
   "nbconvert_exporter": "python",
   "pygments_lexer": "ipython3",
   "version": "3.8.5-final"
  },
  "orig_nbformat": 2,
  "kernelspec": {
   "name": "python3",
   "display_name": "Python 3",
   "language": "python"
  }
 },
 "nbformat": 4,
 "nbformat_minor": 2,
 "cells": [
  {
   "source": [
    "# import python libraries for data manupulation and visualization\n",
    "import numpy as np\n",
    "import pandas as pd\n",
    "import matplotlib.pyplot as pyplot\n",
    "\n",
    "# import python machine learning libraries we need \n",
    "from sklearn.model_selection import train_test_split\n"
   ],
   "cell_type": "code",
   "metadata": {},
   "execution_count": 3,
   "outputs": []
  },
  {
   "source": [
    "missing_value = [\"   .\",\"\"]\n",
    "Test = pd.read_csv('test_data.csv',na_values=missing_value)\n",
    "Train = pd.read_csv('train_data.csv',na_values=missing_value)\n",
    "Sub = pd.read_csv('sample_submission.csv') "
   ],
   "cell_type": "code",
   "metadata": {},
   "execution_count": 4,
   "outputs": []
  },
  {
   "source": [
    "Train.info()"
   ],
   "cell_type": "code",
   "metadata": {},
   "execution_count": 5,
   "outputs": [
    {
     "output_type": "stream",
     "name": "stdout",
     "text": [
      "<class 'pandas.core.frame.DataFrame'>\nRangeIndex: 7160 entries, 0 to 7159\nData columns (total 14 columns):\n #   Column              Non-Null Count  Dtype  \n---  ------              --------------  -----  \n 0   Customer Id         7160 non-null   object \n 1   YearOfObservation   7160 non-null   int64  \n 2   Insured_Period      7160 non-null   float64\n 3   Residential         7160 non-null   int64  \n 4   Building_Painted    7160 non-null   object \n 5   Building_Fenced     7160 non-null   object \n 6   Garden              7153 non-null   object \n 7   Settlement          7160 non-null   object \n 8   Building Dimension  7054 non-null   float64\n 9   Building_Type       7160 non-null   int64  \n 10  Date_of_Occupancy   6652 non-null   float64\n 11  NumberOfWindows     3609 non-null   object \n 12  Geo_Code            7058 non-null   object \n 13  Claim               7160 non-null   int64  \ndtypes: float64(3), int64(4), object(7)\nmemory usage: 783.2+ KB\n"
     ]
    }
   ]
  },
  {
   "cell_type": "code",
   "execution_count": 6,
   "metadata": {},
   "outputs": [
    {
     "output_type": "execute_result",
     "data": {
      "text/plain": [
       "  Customer Id  YearOfObservation  Insured_Period  Residential  \\\n",
       "0      H11920               2013        1.000000            0   \n",
       "1      H11921               2016        0.997268            0   \n",
       "2       H9805               2013        0.369863            0   \n",
       "3       H7493               2014        1.000000            0   \n",
       "4       H7494               2016        1.000000            0   \n",
       "\n",
       "  Building_Painted Building_Fenced Garden Settlement  Building Dimension  \\\n",
       "0                V               N      O          R               300.0   \n",
       "1                V               N      O          R               300.0   \n",
       "2                V               V      V          U               790.0   \n",
       "3                V               N      O          R              1405.0   \n",
       "4                V               N      O          R              1405.0   \n",
       "\n",
       "   Building_Type  Date_of_Occupancy NumberOfWindows Geo_Code  \n",
       "0              1             1960.0               3     3310  \n",
       "1              1             1960.0               3     3310  \n",
       "2              1             1960.0             NaN     3310  \n",
       "3              1             2004.0               3     3321  \n",
       "4              1             2004.0               3     3321  "
      ],
      "text/html": "<div>\n<style scoped>\n    .dataframe tbody tr th:only-of-type {\n        vertical-align: middle;\n    }\n\n    .dataframe tbody tr th {\n        vertical-align: top;\n    }\n\n    .dataframe thead th {\n        text-align: right;\n    }\n</style>\n<table border=\"1\" class=\"dataframe\">\n  <thead>\n    <tr style=\"text-align: right;\">\n      <th></th>\n      <th>Customer Id</th>\n      <th>YearOfObservation</th>\n      <th>Insured_Period</th>\n      <th>Residential</th>\n      <th>Building_Painted</th>\n      <th>Building_Fenced</th>\n      <th>Garden</th>\n      <th>Settlement</th>\n      <th>Building Dimension</th>\n      <th>Building_Type</th>\n      <th>Date_of_Occupancy</th>\n      <th>NumberOfWindows</th>\n      <th>Geo_Code</th>\n    </tr>\n  </thead>\n  <tbody>\n    <tr>\n      <th>0</th>\n      <td>H11920</td>\n      <td>2013</td>\n      <td>1.000000</td>\n      <td>0</td>\n      <td>V</td>\n      <td>N</td>\n      <td>O</td>\n      <td>R</td>\n      <td>300.0</td>\n      <td>1</td>\n      <td>1960.0</td>\n      <td>3</td>\n      <td>3310</td>\n    </tr>\n    <tr>\n      <th>1</th>\n      <td>H11921</td>\n      <td>2016</td>\n      <td>0.997268</td>\n      <td>0</td>\n      <td>V</td>\n      <td>N</td>\n      <td>O</td>\n      <td>R</td>\n      <td>300.0</td>\n      <td>1</td>\n      <td>1960.0</td>\n      <td>3</td>\n      <td>3310</td>\n    </tr>\n    <tr>\n      <th>2</th>\n      <td>H9805</td>\n      <td>2013</td>\n      <td>0.369863</td>\n      <td>0</td>\n      <td>V</td>\n      <td>V</td>\n      <td>V</td>\n      <td>U</td>\n      <td>790.0</td>\n      <td>1</td>\n      <td>1960.0</td>\n      <td>NaN</td>\n      <td>3310</td>\n    </tr>\n    <tr>\n      <th>3</th>\n      <td>H7493</td>\n      <td>2014</td>\n      <td>1.000000</td>\n      <td>0</td>\n      <td>V</td>\n      <td>N</td>\n      <td>O</td>\n      <td>R</td>\n      <td>1405.0</td>\n      <td>1</td>\n      <td>2004.0</td>\n      <td>3</td>\n      <td>3321</td>\n    </tr>\n    <tr>\n      <th>4</th>\n      <td>H7494</td>\n      <td>2016</td>\n      <td>1.000000</td>\n      <td>0</td>\n      <td>V</td>\n      <td>N</td>\n      <td>O</td>\n      <td>R</td>\n      <td>1405.0</td>\n      <td>1</td>\n      <td>2004.0</td>\n      <td>3</td>\n      <td>3321</td>\n    </tr>\n  </tbody>\n</table>\n</div>"
     },
     "metadata": {},
     "execution_count": 6
    }
   ],
   "source": [
    "Test.head(5)"
   ]
  },
  {
   "source": [
    "Test.info()"
   ],
   "cell_type": "code",
   "metadata": {},
   "execution_count": 7,
   "outputs": [
    {
     "output_type": "stream",
     "name": "stdout",
     "text": [
      "<class 'pandas.core.frame.DataFrame'>\nRangeIndex: 3069 entries, 0 to 3068\nData columns (total 13 columns):\n #   Column              Non-Null Count  Dtype  \n---  ------              --------------  -----  \n 0   Customer Id         3069 non-null   object \n 1   YearOfObservation   3069 non-null   int64  \n 2   Insured_Period      3069 non-null   float64\n 3   Residential         3069 non-null   int64  \n 4   Building_Painted    3069 non-null   object \n 5   Building_Fenced     3069 non-null   object \n 6   Garden              3065 non-null   object \n 7   Settlement          3069 non-null   object \n 8   Building Dimension  3056 non-null   float64\n 9   Building_Type       3069 non-null   int64  \n 10  Date_of_Occupancy   2341 non-null   float64\n 11  NumberOfWindows     829 non-null    object \n 12  Geo_Code            3056 non-null   object \ndtypes: float64(3), int64(3), object(7)\nmemory usage: 311.8+ KB\n"
     ]
    }
   ]
  },
  {
   "source": [
    "Sub.shape"
   ],
   "cell_type": "code",
   "metadata": {},
   "execution_count": 8,
   "outputs": [
    {
     "output_type": "execute_result",
     "data": {
      "text/plain": [
       "(3068, 2)"
      ]
     },
     "metadata": {},
     "execution_count": 8
    }
   ]
  },
  {
   "source": [
    "# Feature Engineering"
   ],
   "cell_type": "markdown",
   "metadata": {}
  },
  {
   "cell_type": "code",
   "execution_count": 9,
   "metadata": {},
   "outputs": [],
   "source": [
    "# Remove the unwanted column\n",
    "Train = Train.drop(columns=['Customer Id'], axis=1)\n",
    "Test =  Test.drop(columns=['Customer Id'], axis=1)"
   ]
  },
  {
   "source": [
    "Train['Building_Fenced'] = Train['Building_Fenced'].replace({'N':1, 'V':0})\n",
    "Train['Building_Painted'] = Train['Building_Painted'].replace({'N':1, 'V':0})\n",
    "Train['Garden'] = Train['Garden'].replace({'V':1, 'O':0})\n",
    "Train['Settlement'] = Train['Settlement'].replace({'U':0, 'R':1})"
   ],
   "cell_type": "code",
   "metadata": {},
   "execution_count": 10,
   "outputs": []
  },
  {
   "source": [
    "Train"
   ],
   "cell_type": "code",
   "metadata": {},
   "execution_count": 11,
   "outputs": [
    {
     "output_type": "execute_result",
     "data": {
      "text/plain": [
       "      YearOfObservation  Insured_Period  Residential  Building_Painted  \\\n",
       "0                  2013        1.000000            0                 1   \n",
       "1                  2015        1.000000            0                 0   \n",
       "2                  2014        1.000000            0                 1   \n",
       "3                  2013        1.000000            0                 0   \n",
       "4                  2014        1.000000            0                 0   \n",
       "...                 ...             ...          ...               ...   \n",
       "7155               2012        1.000000            1                 0   \n",
       "7156               2013        1.000000            0                 0   \n",
       "7157               2016        0.038251            0                 0   \n",
       "7158               2013        1.000000            0                 0   \n",
       "7159               2014        1.000000            0                 0   \n",
       "\n",
       "      Building_Fenced  Garden  Settlement  Building Dimension  Building_Type  \\\n",
       "0                   0     1.0           0               290.0              1   \n",
       "1                   1     0.0           1               490.0              1   \n",
       "2                   0     1.0           0               595.0              1   \n",
       "3                   0     1.0           0              2840.0              1   \n",
       "4                   1     0.0           1               680.0              1   \n",
       "...               ...     ...         ...                 ...            ...   \n",
       "7155                0     1.0           0                 NaN              1   \n",
       "7156                0     1.0           0                 NaN              2   \n",
       "7157                0     1.0           0                 NaN              1   \n",
       "7158                0     1.0           0                 NaN              1   \n",
       "7159                0     1.0           0                 NaN              1   \n",
       "\n",
       "      Date_of_Occupancy NumberOfWindows Geo_Code  Claim  \n",
       "0                1960.0             NaN     1053      0  \n",
       "1                1850.0               4     1053      0  \n",
       "2                1960.0             NaN     1053      0  \n",
       "3                1960.0             NaN     1053      0  \n",
       "4                1800.0               3     1053      0  \n",
       "...                 ...             ...      ...    ...  \n",
       "7155             2001.0             NaN      NaN      0  \n",
       "7156             1980.0             NaN      NaN      1  \n",
       "7157             1992.0             NaN      NaN      0  \n",
       "7158             1972.0             NaN      NaN      0  \n",
       "7159             2004.0             NaN      NaN      0  \n",
       "\n",
       "[7160 rows x 13 columns]"
      ],
      "text/html": "<div>\n<style scoped>\n    .dataframe tbody tr th:only-of-type {\n        vertical-align: middle;\n    }\n\n    .dataframe tbody tr th {\n        vertical-align: top;\n    }\n\n    .dataframe thead th {\n        text-align: right;\n    }\n</style>\n<table border=\"1\" class=\"dataframe\">\n  <thead>\n    <tr style=\"text-align: right;\">\n      <th></th>\n      <th>YearOfObservation</th>\n      <th>Insured_Period</th>\n      <th>Residential</th>\n      <th>Building_Painted</th>\n      <th>Building_Fenced</th>\n      <th>Garden</th>\n      <th>Settlement</th>\n      <th>Building Dimension</th>\n      <th>Building_Type</th>\n      <th>Date_of_Occupancy</th>\n      <th>NumberOfWindows</th>\n      <th>Geo_Code</th>\n      <th>Claim</th>\n    </tr>\n  </thead>\n  <tbody>\n    <tr>\n      <th>0</th>\n      <td>2013</td>\n      <td>1.000000</td>\n      <td>0</td>\n      <td>1</td>\n      <td>0</td>\n      <td>1.0</td>\n      <td>0</td>\n      <td>290.0</td>\n      <td>1</td>\n      <td>1960.0</td>\n      <td>NaN</td>\n      <td>1053</td>\n      <td>0</td>\n    </tr>\n    <tr>\n      <th>1</th>\n      <td>2015</td>\n      <td>1.000000</td>\n      <td>0</td>\n      <td>0</td>\n      <td>1</td>\n      <td>0.0</td>\n      <td>1</td>\n      <td>490.0</td>\n      <td>1</td>\n      <td>1850.0</td>\n      <td>4</td>\n      <td>1053</td>\n      <td>0</td>\n    </tr>\n    <tr>\n      <th>2</th>\n      <td>2014</td>\n      <td>1.000000</td>\n      <td>0</td>\n      <td>1</td>\n      <td>0</td>\n      <td>1.0</td>\n      <td>0</td>\n      <td>595.0</td>\n      <td>1</td>\n      <td>1960.0</td>\n      <td>NaN</td>\n      <td>1053</td>\n      <td>0</td>\n    </tr>\n    <tr>\n      <th>3</th>\n      <td>2013</td>\n      <td>1.000000</td>\n      <td>0</td>\n      <td>0</td>\n      <td>0</td>\n      <td>1.0</td>\n      <td>0</td>\n      <td>2840.0</td>\n      <td>1</td>\n      <td>1960.0</td>\n      <td>NaN</td>\n      <td>1053</td>\n      <td>0</td>\n    </tr>\n    <tr>\n      <th>4</th>\n      <td>2014</td>\n      <td>1.000000</td>\n      <td>0</td>\n      <td>0</td>\n      <td>1</td>\n      <td>0.0</td>\n      <td>1</td>\n      <td>680.0</td>\n      <td>1</td>\n      <td>1800.0</td>\n      <td>3</td>\n      <td>1053</td>\n      <td>0</td>\n    </tr>\n    <tr>\n      <th>...</th>\n      <td>...</td>\n      <td>...</td>\n      <td>...</td>\n      <td>...</td>\n      <td>...</td>\n      <td>...</td>\n      <td>...</td>\n      <td>...</td>\n      <td>...</td>\n      <td>...</td>\n      <td>...</td>\n      <td>...</td>\n      <td>...</td>\n    </tr>\n    <tr>\n      <th>7155</th>\n      <td>2012</td>\n      <td>1.000000</td>\n      <td>1</td>\n      <td>0</td>\n      <td>0</td>\n      <td>1.0</td>\n      <td>0</td>\n      <td>NaN</td>\n      <td>1</td>\n      <td>2001.0</td>\n      <td>NaN</td>\n      <td>NaN</td>\n      <td>0</td>\n    </tr>\n    <tr>\n      <th>7156</th>\n      <td>2013</td>\n      <td>1.000000</td>\n      <td>0</td>\n      <td>0</td>\n      <td>0</td>\n      <td>1.0</td>\n      <td>0</td>\n      <td>NaN</td>\n      <td>2</td>\n      <td>1980.0</td>\n      <td>NaN</td>\n      <td>NaN</td>\n      <td>1</td>\n    </tr>\n    <tr>\n      <th>7157</th>\n      <td>2016</td>\n      <td>0.038251</td>\n      <td>0</td>\n      <td>0</td>\n      <td>0</td>\n      <td>1.0</td>\n      <td>0</td>\n      <td>NaN</td>\n      <td>1</td>\n      <td>1992.0</td>\n      <td>NaN</td>\n      <td>NaN</td>\n      <td>0</td>\n    </tr>\n    <tr>\n      <th>7158</th>\n      <td>2013</td>\n      <td>1.000000</td>\n      <td>0</td>\n      <td>0</td>\n      <td>0</td>\n      <td>1.0</td>\n      <td>0</td>\n      <td>NaN</td>\n      <td>1</td>\n      <td>1972.0</td>\n      <td>NaN</td>\n      <td>NaN</td>\n      <td>0</td>\n    </tr>\n    <tr>\n      <th>7159</th>\n      <td>2014</td>\n      <td>1.000000</td>\n      <td>0</td>\n      <td>0</td>\n      <td>0</td>\n      <td>1.0</td>\n      <td>0</td>\n      <td>NaN</td>\n      <td>1</td>\n      <td>2004.0</td>\n      <td>NaN</td>\n      <td>NaN</td>\n      <td>0</td>\n    </tr>\n  </tbody>\n</table>\n<p>7160 rows × 13 columns</p>\n</div>"
     },
     "metadata": {},
     "execution_count": 11
    }
   ]
  },
  {
   "source": [
    "Test['Building_Fenced'] = Test['Building_Fenced'].replace({'N':1, 'V':0})\n",
    "Test['Building_Painted'] = Test['Building_Painted'].replace({'N':1, 'V':0})\n",
    "Test['Garden'] = Test['Garden'].replace({'V':1, 'O':0})\n",
    "Test['Settlement'] = Test['Settlement'].replace({'U':0, 'R':1})\n"
   ],
   "cell_type": "code",
   "metadata": {},
   "execution_count": 12,
   "outputs": []
  },
  {
   "source": [
    "Test"
   ],
   "cell_type": "code",
   "metadata": {},
   "execution_count": 13,
   "outputs": [
    {
     "output_type": "execute_result",
     "data": {
      "text/plain": [
       "      YearOfObservation  Insured_Period  Residential  Building_Painted  \\\n",
       "0                  2013        1.000000            0                 0   \n",
       "1                  2016        0.997268            0                 0   \n",
       "2                  2013        0.369863            0                 0   \n",
       "3                  2014        1.000000            0                 0   \n",
       "4                  2016        1.000000            0                 0   \n",
       "...                 ...             ...          ...               ...   \n",
       "3064               2015        1.000000            0                 0   \n",
       "3065               2012        1.000000            0                 0   \n",
       "3066               2012        1.000000            0                 0   \n",
       "3067               2013        1.000000            0                 0   \n",
       "3068               2012        1.000000            0                 0   \n",
       "\n",
       "      Building_Fenced  Garden  Settlement  Building Dimension  Building_Type  \\\n",
       "0                   1     0.0           1               300.0              1   \n",
       "1                   1     0.0           1               300.0              1   \n",
       "2                   0     1.0           0               790.0              1   \n",
       "3                   1     0.0           1              1405.0              1   \n",
       "4                   1     0.0           1              1405.0              1   \n",
       "...               ...     ...         ...                 ...            ...   \n",
       "3064                0     1.0           0                 NaN              4   \n",
       "3065                0     1.0           0                 NaN              2   \n",
       "3066                0     1.0           0                 NaN              2   \n",
       "3067                0     1.0           0                 NaN              1   \n",
       "3068                0     1.0           0                 NaN              2   \n",
       "\n",
       "      Date_of_Occupancy NumberOfWindows Geo_Code  \n",
       "0                1960.0               3     3310  \n",
       "1                1960.0               3     3310  \n",
       "2                1960.0             NaN     3310  \n",
       "3                2004.0               3     3321  \n",
       "4                2004.0               3     3321  \n",
       "...                 ...             ...      ...  \n",
       "3064             1900.0             NaN      NaN  \n",
       "3065             1948.0             NaN      NaN  \n",
       "3066             1993.0             NaN      NaN  \n",
       "3067             1800.0             NaN      NaN  \n",
       "3068             1950.0             NaN      NaN  \n",
       "\n",
       "[3069 rows x 12 columns]"
      ],
      "text/html": "<div>\n<style scoped>\n    .dataframe tbody tr th:only-of-type {\n        vertical-align: middle;\n    }\n\n    .dataframe tbody tr th {\n        vertical-align: top;\n    }\n\n    .dataframe thead th {\n        text-align: right;\n    }\n</style>\n<table border=\"1\" class=\"dataframe\">\n  <thead>\n    <tr style=\"text-align: right;\">\n      <th></th>\n      <th>YearOfObservation</th>\n      <th>Insured_Period</th>\n      <th>Residential</th>\n      <th>Building_Painted</th>\n      <th>Building_Fenced</th>\n      <th>Garden</th>\n      <th>Settlement</th>\n      <th>Building Dimension</th>\n      <th>Building_Type</th>\n      <th>Date_of_Occupancy</th>\n      <th>NumberOfWindows</th>\n      <th>Geo_Code</th>\n    </tr>\n  </thead>\n  <tbody>\n    <tr>\n      <th>0</th>\n      <td>2013</td>\n      <td>1.000000</td>\n      <td>0</td>\n      <td>0</td>\n      <td>1</td>\n      <td>0.0</td>\n      <td>1</td>\n      <td>300.0</td>\n      <td>1</td>\n      <td>1960.0</td>\n      <td>3</td>\n      <td>3310</td>\n    </tr>\n    <tr>\n      <th>1</th>\n      <td>2016</td>\n      <td>0.997268</td>\n      <td>0</td>\n      <td>0</td>\n      <td>1</td>\n      <td>0.0</td>\n      <td>1</td>\n      <td>300.0</td>\n      <td>1</td>\n      <td>1960.0</td>\n      <td>3</td>\n      <td>3310</td>\n    </tr>\n    <tr>\n      <th>2</th>\n      <td>2013</td>\n      <td>0.369863</td>\n      <td>0</td>\n      <td>0</td>\n      <td>0</td>\n      <td>1.0</td>\n      <td>0</td>\n      <td>790.0</td>\n      <td>1</td>\n      <td>1960.0</td>\n      <td>NaN</td>\n      <td>3310</td>\n    </tr>\n    <tr>\n      <th>3</th>\n      <td>2014</td>\n      <td>1.000000</td>\n      <td>0</td>\n      <td>0</td>\n      <td>1</td>\n      <td>0.0</td>\n      <td>1</td>\n      <td>1405.0</td>\n      <td>1</td>\n      <td>2004.0</td>\n      <td>3</td>\n      <td>3321</td>\n    </tr>\n    <tr>\n      <th>4</th>\n      <td>2016</td>\n      <td>1.000000</td>\n      <td>0</td>\n      <td>0</td>\n      <td>1</td>\n      <td>0.0</td>\n      <td>1</td>\n      <td>1405.0</td>\n      <td>1</td>\n      <td>2004.0</td>\n      <td>3</td>\n      <td>3321</td>\n    </tr>\n    <tr>\n      <th>...</th>\n      <td>...</td>\n      <td>...</td>\n      <td>...</td>\n      <td>...</td>\n      <td>...</td>\n      <td>...</td>\n      <td>...</td>\n      <td>...</td>\n      <td>...</td>\n      <td>...</td>\n      <td>...</td>\n      <td>...</td>\n    </tr>\n    <tr>\n      <th>3064</th>\n      <td>2015</td>\n      <td>1.000000</td>\n      <td>0</td>\n      <td>0</td>\n      <td>0</td>\n      <td>1.0</td>\n      <td>0</td>\n      <td>NaN</td>\n      <td>4</td>\n      <td>1900.0</td>\n      <td>NaN</td>\n      <td>NaN</td>\n    </tr>\n    <tr>\n      <th>3065</th>\n      <td>2012</td>\n      <td>1.000000</td>\n      <td>0</td>\n      <td>0</td>\n      <td>0</td>\n      <td>1.0</td>\n      <td>0</td>\n      <td>NaN</td>\n      <td>2</td>\n      <td>1948.0</td>\n      <td>NaN</td>\n      <td>NaN</td>\n    </tr>\n    <tr>\n      <th>3066</th>\n      <td>2012</td>\n      <td>1.000000</td>\n      <td>0</td>\n      <td>0</td>\n      <td>0</td>\n      <td>1.0</td>\n      <td>0</td>\n      <td>NaN</td>\n      <td>2</td>\n      <td>1993.0</td>\n      <td>NaN</td>\n      <td>NaN</td>\n    </tr>\n    <tr>\n      <th>3067</th>\n      <td>2013</td>\n      <td>1.000000</td>\n      <td>0</td>\n      <td>0</td>\n      <td>0</td>\n      <td>1.0</td>\n      <td>0</td>\n      <td>NaN</td>\n      <td>1</td>\n      <td>1800.0</td>\n      <td>NaN</td>\n      <td>NaN</td>\n    </tr>\n    <tr>\n      <th>3068</th>\n      <td>2012</td>\n      <td>1.000000</td>\n      <td>0</td>\n      <td>0</td>\n      <td>0</td>\n      <td>1.0</td>\n      <td>0</td>\n      <td>NaN</td>\n      <td>2</td>\n      <td>1950.0</td>\n      <td>NaN</td>\n      <td>NaN</td>\n    </tr>\n  </tbody>\n</table>\n<p>3069 rows × 12 columns</p>\n</div>"
     },
     "metadata": {},
     "execution_count": 13
    }
   ]
  },
  {
   "cell_type": "code",
   "execution_count": 14,
   "metadata": {},
   "outputs": [],
   "source": [
    "# Setting the null value to the median \n",
    "Train['Building Dimension'] = Train['Building Dimension'].fillna(value=1083.0)\n",
    "Test['Building Dimension'] = Test['Building Dimension'].fillna(value=900.0)"
   ]
  },
  {
   "cell_type": "code",
   "execution_count": 22,
   "metadata": {},
   "outputs": [
    {
     "output_type": "execute_result",
     "data": {
      "text/plain": [
       "array([0, '4', '3', '2', '5', 10, '6', '7', '9', '8', '1'], dtype=object)"
      ]
     },
     "metadata": {},
     "execution_count": 22
    }
   ],
   "source": [
    "Train['NumberOfWindows'].unique()"
   ]
  },
  {
   "cell_type": "code",
   "execution_count": 23,
   "metadata": {},
   "outputs": [
    {
     "output_type": "execute_result",
     "data": {
      "text/plain": [
       "array(['1053', '1143', '1160', ..., '2B096', '2B353', -1], dtype=object)"
      ]
     },
     "metadata": {},
     "execution_count": 23
    }
   ],
   "source": [
    "Train['Geo_Code'].unique()"
   ]
  },
  {
   "cell_type": "code",
   "execution_count": 17,
   "metadata": {},
   "outputs": [],
   "source": [
    "Train[\"NumberOfWindows\"] = Train[\"NumberOfWindows\"].replace({'   .':0, '>=10':10})\n",
    "Test['NumberOfWindows'] = Test['NumberOfWindows'].replace({'   .':0, '>=10':10})\n",
    "Train[\"NumberOfWindows\"] = Train[\"NumberOfWindows\"].fillna(0)\n",
    "Test['NumberOfWindows'] = Test['NumberOfWindows'].fillna(0)"
   ]
  },
  {
   "cell_type": "code",
   "execution_count": 18,
   "metadata": {},
   "outputs": [],
   "source": [
    "Train['Date_of_Occupancy'] = Train['Date_of_Occupancy'].fillna(value=-1)\n",
    "Test['Date_of_Occupancy'] = Test['Date_of_Occupancy'].fillna(value=-1)"
   ]
  },
  {
   "cell_type": "code",
   "execution_count": 19,
   "metadata": {},
   "outputs": [],
   "source": [
    "Train['Geo_Code'] = Train['Geo_Code'].fillna(value=-1)\n",
    "Test['Geo_Code'] = Test['Geo_Code'].fillna(value=-1)"
   ]
  },
  {
   "cell_type": "code",
   "execution_count": 20,
   "metadata": {},
   "outputs": [],
   "source": [
    "Train['Garden'] = Train['Garden'].fillna(value=-1)\n",
    "Test['Garden'] = Test['Garden'].fillna(value=-1)"
   ]
  },
  {
   "cell_type": "code",
   "execution_count": 21,
   "metadata": {},
   "outputs": [
    {
     "output_type": "execute_result",
     "data": {
      "text/plain": [
       "                    YearOfObservation  Insured_Period  Residential  \\\n",
       "YearOfObservation            1.000000        0.025434    -0.040391   \n",
       "Insured_Period               0.025434        1.000000    -0.037620   \n",
       "Residential                 -0.040391       -0.037620     1.000000   \n",
       "Building_Painted            -0.056881        0.037077     0.032927   \n",
       "Building_Fenced              0.120373        0.047091     0.082448   \n",
       "Garden                      -0.119031       -0.047744    -0.081257   \n",
       "Settlement                   0.120103        0.046504     0.082684   \n",
       "Building Dimension           0.010959        0.008822     0.056357   \n",
       "Building_Type                0.005490       -0.017811     0.334039   \n",
       "Date_of_Occupancy            0.041636        0.182661    -0.081502   \n",
       "Claim                       -0.016367        0.088715     0.063509   \n",
       "\n",
       "                    Building_Painted  Building_Fenced    Garden  Settlement  \\\n",
       "YearOfObservation          -0.056881         0.120373 -0.119031    0.120103   \n",
       "Insured_Period              0.037077         0.047091 -0.047744    0.046504   \n",
       "Residential                 0.032927         0.082448 -0.081257    0.082684   \n",
       "Building_Painted            1.000000        -0.574757  0.573813   -0.575081   \n",
       "Building_Fenced            -0.574757         1.000000 -0.997784    0.999441   \n",
       "Garden                      0.573813        -0.997784  1.000000   -0.997783   \n",
       "Settlement                 -0.575081         0.999441 -0.997783    1.000000   \n",
       "Building Dimension         -0.089176         0.136512 -0.137255    0.136369   \n",
       "Building_Type               0.048541         0.020430 -0.018432    0.020320   \n",
       "Date_of_Occupancy          -0.028621         0.266582 -0.266205    0.265657   \n",
       "Claim                      -0.029857         0.051657 -0.052236    0.052019   \n",
       "\n",
       "                    Building Dimension  Building_Type  Date_of_Occupancy  \\\n",
       "YearOfObservation             0.010959       0.005490           0.041636   \n",
       "Insured_Period                0.008822      -0.017811           0.182661   \n",
       "Residential                   0.056357       0.334039          -0.081502   \n",
       "Building_Painted             -0.089176       0.048541          -0.028621   \n",
       "Building_Fenced               0.136512       0.020430           0.266582   \n",
       "Garden                       -0.137255      -0.018432          -0.266205   \n",
       "Settlement                    0.136369       0.020320           0.265657   \n",
       "Building Dimension            1.000000       0.009184           0.090890   \n",
       "Building_Type                 0.009184       1.000000          -0.086072   \n",
       "Date_of_Occupancy             0.090890      -0.086072           1.000000   \n",
       "Claim                         0.295558       0.112168           0.019288   \n",
       "\n",
       "                       Claim  \n",
       "YearOfObservation  -0.016367  \n",
       "Insured_Period      0.088715  \n",
       "Residential         0.063509  \n",
       "Building_Painted   -0.029857  \n",
       "Building_Fenced     0.051657  \n",
       "Garden             -0.052236  \n",
       "Settlement          0.052019  \n",
       "Building Dimension  0.295558  \n",
       "Building_Type       0.112168  \n",
       "Date_of_Occupancy   0.019288  \n",
       "Claim               1.000000  "
      ],
      "text/html": "<div>\n<style scoped>\n    .dataframe tbody tr th:only-of-type {\n        vertical-align: middle;\n    }\n\n    .dataframe tbody tr th {\n        vertical-align: top;\n    }\n\n    .dataframe thead th {\n        text-align: right;\n    }\n</style>\n<table border=\"1\" class=\"dataframe\">\n  <thead>\n    <tr style=\"text-align: right;\">\n      <th></th>\n      <th>YearOfObservation</th>\n      <th>Insured_Period</th>\n      <th>Residential</th>\n      <th>Building_Painted</th>\n      <th>Building_Fenced</th>\n      <th>Garden</th>\n      <th>Settlement</th>\n      <th>Building Dimension</th>\n      <th>Building_Type</th>\n      <th>Date_of_Occupancy</th>\n      <th>Claim</th>\n    </tr>\n  </thead>\n  <tbody>\n    <tr>\n      <th>YearOfObservation</th>\n      <td>1.000000</td>\n      <td>0.025434</td>\n      <td>-0.040391</td>\n      <td>-0.056881</td>\n      <td>0.120373</td>\n      <td>-0.119031</td>\n      <td>0.120103</td>\n      <td>0.010959</td>\n      <td>0.005490</td>\n      <td>0.041636</td>\n      <td>-0.016367</td>\n    </tr>\n    <tr>\n      <th>Insured_Period</th>\n      <td>0.025434</td>\n      <td>1.000000</td>\n      <td>-0.037620</td>\n      <td>0.037077</td>\n      <td>0.047091</td>\n      <td>-0.047744</td>\n      <td>0.046504</td>\n      <td>0.008822</td>\n      <td>-0.017811</td>\n      <td>0.182661</td>\n      <td>0.088715</td>\n    </tr>\n    <tr>\n      <th>Residential</th>\n      <td>-0.040391</td>\n      <td>-0.037620</td>\n      <td>1.000000</td>\n      <td>0.032927</td>\n      <td>0.082448</td>\n      <td>-0.081257</td>\n      <td>0.082684</td>\n      <td>0.056357</td>\n      <td>0.334039</td>\n      <td>-0.081502</td>\n      <td>0.063509</td>\n    </tr>\n    <tr>\n      <th>Building_Painted</th>\n      <td>-0.056881</td>\n      <td>0.037077</td>\n      <td>0.032927</td>\n      <td>1.000000</td>\n      <td>-0.574757</td>\n      <td>0.573813</td>\n      <td>-0.575081</td>\n      <td>-0.089176</td>\n      <td>0.048541</td>\n      <td>-0.028621</td>\n      <td>-0.029857</td>\n    </tr>\n    <tr>\n      <th>Building_Fenced</th>\n      <td>0.120373</td>\n      <td>0.047091</td>\n      <td>0.082448</td>\n      <td>-0.574757</td>\n      <td>1.000000</td>\n      <td>-0.997784</td>\n      <td>0.999441</td>\n      <td>0.136512</td>\n      <td>0.020430</td>\n      <td>0.266582</td>\n      <td>0.051657</td>\n    </tr>\n    <tr>\n      <th>Garden</th>\n      <td>-0.119031</td>\n      <td>-0.047744</td>\n      <td>-0.081257</td>\n      <td>0.573813</td>\n      <td>-0.997784</td>\n      <td>1.000000</td>\n      <td>-0.997783</td>\n      <td>-0.137255</td>\n      <td>-0.018432</td>\n      <td>-0.266205</td>\n      <td>-0.052236</td>\n    </tr>\n    <tr>\n      <th>Settlement</th>\n      <td>0.120103</td>\n      <td>0.046504</td>\n      <td>0.082684</td>\n      <td>-0.575081</td>\n      <td>0.999441</td>\n      <td>-0.997783</td>\n      <td>1.000000</td>\n      <td>0.136369</td>\n      <td>0.020320</td>\n      <td>0.265657</td>\n      <td>0.052019</td>\n    </tr>\n    <tr>\n      <th>Building Dimension</th>\n      <td>0.010959</td>\n      <td>0.008822</td>\n      <td>0.056357</td>\n      <td>-0.089176</td>\n      <td>0.136512</td>\n      <td>-0.137255</td>\n      <td>0.136369</td>\n      <td>1.000000</td>\n      <td>0.009184</td>\n      <td>0.090890</td>\n      <td>0.295558</td>\n    </tr>\n    <tr>\n      <th>Building_Type</th>\n      <td>0.005490</td>\n      <td>-0.017811</td>\n      <td>0.334039</td>\n      <td>0.048541</td>\n      <td>0.020430</td>\n      <td>-0.018432</td>\n      <td>0.020320</td>\n      <td>0.009184</td>\n      <td>1.000000</td>\n      <td>-0.086072</td>\n      <td>0.112168</td>\n    </tr>\n    <tr>\n      <th>Date_of_Occupancy</th>\n      <td>0.041636</td>\n      <td>0.182661</td>\n      <td>-0.081502</td>\n      <td>-0.028621</td>\n      <td>0.266582</td>\n      <td>-0.266205</td>\n      <td>0.265657</td>\n      <td>0.090890</td>\n      <td>-0.086072</td>\n      <td>1.000000</td>\n      <td>0.019288</td>\n    </tr>\n    <tr>\n      <th>Claim</th>\n      <td>-0.016367</td>\n      <td>0.088715</td>\n      <td>0.063509</td>\n      <td>-0.029857</td>\n      <td>0.051657</td>\n      <td>-0.052236</td>\n      <td>0.052019</td>\n      <td>0.295558</td>\n      <td>0.112168</td>\n      <td>0.019288</td>\n      <td>1.000000</td>\n    </tr>\n  </tbody>\n</table>\n</div>"
     },
     "metadata": {},
     "execution_count": 21
    }
   ],
   "source": [
    "Train.corr()"
   ]
  },
  {
   "cell_type": "code",
   "execution_count": 24,
   "metadata": {},
   "outputs": [
    {
     "output_type": "execute_result",
     "data": {
      "text/plain": [
       "YearOfObservation     0\n",
       "Insured_Period        0\n",
       "Residential           0\n",
       "Building_Painted      0\n",
       "Building_Fenced       0\n",
       "Garden                0\n",
       "Settlement            0\n",
       "Building Dimension    0\n",
       "Building_Type         0\n",
       "Date_of_Occupancy     0\n",
       "NumberOfWindows       0\n",
       "Geo_Code              0\n",
       "Claim                 0\n",
       "dtype: int64"
      ]
     },
     "metadata": {},
     "execution_count": 24
    }
   ],
   "source": [
    "Train.isnull().sum()"
   ]
  },
  {
   "cell_type": "code",
   "execution_count": 25,
   "metadata": {},
   "outputs": [
    {
     "output_type": "execute_result",
     "data": {
      "text/plain": [
       "YearOfObservation     0\n",
       "Insured_Period        0\n",
       "Residential           0\n",
       "Building_Painted      0\n",
       "Building_Fenced       0\n",
       "Garden                0\n",
       "Settlement            0\n",
       "Building Dimension    0\n",
       "Building_Type         0\n",
       "Date_of_Occupancy     0\n",
       "NumberOfWindows       0\n",
       "Geo_Code              0\n",
       "dtype: int64"
      ]
     },
     "metadata": {},
     "execution_count": 25
    }
   ],
   "source": [
    "Test.isnull().sum()"
   ]
  },
  {
   "source": [
    "# Prepare the Data for Supervised Machine Learning"
   ],
   "cell_type": "markdown",
   "metadata": {}
  },
  {
   "cell_type": "code",
   "execution_count": 26,
   "metadata": {},
   "outputs": [
    {
     "output_type": "execute_result",
     "data": {
      "text/plain": [
       "0       0\n",
       "1       0\n",
       "2       0\n",
       "3       0\n",
       "4       0\n",
       "       ..\n",
       "7155    0\n",
       "7156    1\n",
       "7157    0\n",
       "7158    0\n",
       "7159    0\n",
       "Name: Claim, Length: 7160, dtype: int64"
      ]
     },
     "metadata": {},
     "execution_count": 26
    }
   ],
   "source": [
    "y = Train['Claim'] \n",
    "y"
   ]
  },
  {
   "cell_type": "code",
   "execution_count": 45,
   "metadata": {},
   "outputs": [
    {
     "output_type": "execute_result",
     "data": {
      "text/plain": [
       "      YearOfObservation  Insured_Period  Residential  Building_Painted  \\\n",
       "0                  2013        1.000000            0                 1   \n",
       "1                  2015        1.000000            0                 0   \n",
       "2                  2014        1.000000            0                 1   \n",
       "3                  2013        1.000000            0                 0   \n",
       "4                  2014        1.000000            0                 0   \n",
       "...                 ...             ...          ...               ...   \n",
       "7155               2012        1.000000            1                 0   \n",
       "7156               2013        1.000000            0                 0   \n",
       "7157               2016        0.038251            0                 0   \n",
       "7158               2013        1.000000            0                 0   \n",
       "7159               2014        1.000000            0                 0   \n",
       "\n",
       "      Building_Fenced  Garden  Settlement  Building Dimension  Building_Type  \\\n",
       "0                   0     1.0           0               290.0              1   \n",
       "1                   1     0.0           1               490.0              1   \n",
       "2                   0     1.0           0               595.0              1   \n",
       "3                   0     1.0           0              2840.0              1   \n",
       "4                   1     0.0           1               680.0              1   \n",
       "...               ...     ...         ...                 ...            ...   \n",
       "7155                0     1.0           0              1083.0              1   \n",
       "7156                0     1.0           0              1083.0              2   \n",
       "7157                0     1.0           0              1083.0              1   \n",
       "7158                0     1.0           0              1083.0              1   \n",
       "7159                0     1.0           0              1083.0              1   \n",
       "\n",
       "      Date_of_Occupancy NumberOfWindows Geo_Code  \n",
       "0                1960.0               0     1053  \n",
       "1                1850.0               4     1053  \n",
       "2                1960.0               0     1053  \n",
       "3                1960.0               0     1053  \n",
       "4                1800.0               3     1053  \n",
       "...                 ...             ...      ...  \n",
       "7155             2001.0               0       -1  \n",
       "7156             1980.0               0       -1  \n",
       "7157             1992.0               0       -1  \n",
       "7158             1972.0               0       -1  \n",
       "7159             2004.0               0       -1  \n",
       "\n",
       "[7160 rows x 12 columns]"
      ],
      "text/html": "<div>\n<style scoped>\n    .dataframe tbody tr th:only-of-type {\n        vertical-align: middle;\n    }\n\n    .dataframe tbody tr th {\n        vertical-align: top;\n    }\n\n    .dataframe thead th {\n        text-align: right;\n    }\n</style>\n<table border=\"1\" class=\"dataframe\">\n  <thead>\n    <tr style=\"text-align: right;\">\n      <th></th>\n      <th>YearOfObservation</th>\n      <th>Insured_Period</th>\n      <th>Residential</th>\n      <th>Building_Painted</th>\n      <th>Building_Fenced</th>\n      <th>Garden</th>\n      <th>Settlement</th>\n      <th>Building Dimension</th>\n      <th>Building_Type</th>\n      <th>Date_of_Occupancy</th>\n      <th>NumberOfWindows</th>\n      <th>Geo_Code</th>\n    </tr>\n  </thead>\n  <tbody>\n    <tr>\n      <th>0</th>\n      <td>2013</td>\n      <td>1.000000</td>\n      <td>0</td>\n      <td>1</td>\n      <td>0</td>\n      <td>1.0</td>\n      <td>0</td>\n      <td>290.0</td>\n      <td>1</td>\n      <td>1960.0</td>\n      <td>0</td>\n      <td>1053</td>\n    </tr>\n    <tr>\n      <th>1</th>\n      <td>2015</td>\n      <td>1.000000</td>\n      <td>0</td>\n      <td>0</td>\n      <td>1</td>\n      <td>0.0</td>\n      <td>1</td>\n      <td>490.0</td>\n      <td>1</td>\n      <td>1850.0</td>\n      <td>4</td>\n      <td>1053</td>\n    </tr>\n    <tr>\n      <th>2</th>\n      <td>2014</td>\n      <td>1.000000</td>\n      <td>0</td>\n      <td>1</td>\n      <td>0</td>\n      <td>1.0</td>\n      <td>0</td>\n      <td>595.0</td>\n      <td>1</td>\n      <td>1960.0</td>\n      <td>0</td>\n      <td>1053</td>\n    </tr>\n    <tr>\n      <th>3</th>\n      <td>2013</td>\n      <td>1.000000</td>\n      <td>0</td>\n      <td>0</td>\n      <td>0</td>\n      <td>1.0</td>\n      <td>0</td>\n      <td>2840.0</td>\n      <td>1</td>\n      <td>1960.0</td>\n      <td>0</td>\n      <td>1053</td>\n    </tr>\n    <tr>\n      <th>4</th>\n      <td>2014</td>\n      <td>1.000000</td>\n      <td>0</td>\n      <td>0</td>\n      <td>1</td>\n      <td>0.0</td>\n      <td>1</td>\n      <td>680.0</td>\n      <td>1</td>\n      <td>1800.0</td>\n      <td>3</td>\n      <td>1053</td>\n    </tr>\n    <tr>\n      <th>...</th>\n      <td>...</td>\n      <td>...</td>\n      <td>...</td>\n      <td>...</td>\n      <td>...</td>\n      <td>...</td>\n      <td>...</td>\n      <td>...</td>\n      <td>...</td>\n      <td>...</td>\n      <td>...</td>\n      <td>...</td>\n    </tr>\n    <tr>\n      <th>7155</th>\n      <td>2012</td>\n      <td>1.000000</td>\n      <td>1</td>\n      <td>0</td>\n      <td>0</td>\n      <td>1.0</td>\n      <td>0</td>\n      <td>1083.0</td>\n      <td>1</td>\n      <td>2001.0</td>\n      <td>0</td>\n      <td>-1</td>\n    </tr>\n    <tr>\n      <th>7156</th>\n      <td>2013</td>\n      <td>1.000000</td>\n      <td>0</td>\n      <td>0</td>\n      <td>0</td>\n      <td>1.0</td>\n      <td>0</td>\n      <td>1083.0</td>\n      <td>2</td>\n      <td>1980.0</td>\n      <td>0</td>\n      <td>-1</td>\n    </tr>\n    <tr>\n      <th>7157</th>\n      <td>2016</td>\n      <td>0.038251</td>\n      <td>0</td>\n      <td>0</td>\n      <td>0</td>\n      <td>1.0</td>\n      <td>0</td>\n      <td>1083.0</td>\n      <td>1</td>\n      <td>1992.0</td>\n      <td>0</td>\n      <td>-1</td>\n    </tr>\n    <tr>\n      <th>7158</th>\n      <td>2013</td>\n      <td>1.000000</td>\n      <td>0</td>\n      <td>0</td>\n      <td>0</td>\n      <td>1.0</td>\n      <td>0</td>\n      <td>1083.0</td>\n      <td>1</td>\n      <td>1972.0</td>\n      <td>0</td>\n      <td>-1</td>\n    </tr>\n    <tr>\n      <th>7159</th>\n      <td>2014</td>\n      <td>1.000000</td>\n      <td>0</td>\n      <td>0</td>\n      <td>0</td>\n      <td>1.0</td>\n      <td>0</td>\n      <td>1083.0</td>\n      <td>1</td>\n      <td>2004.0</td>\n      <td>0</td>\n      <td>-1</td>\n    </tr>\n  </tbody>\n</table>\n<p>7160 rows × 12 columns</p>\n</div>"
     },
     "metadata": {},
     "execution_count": 45
    }
   ],
   "source": [
    "X = Train.drop('Claim', axis=1)\n",
    "X"
   ]
  },
  {
   "cell_type": "code",
   "execution_count": 46,
   "metadata": {},
   "outputs": [
    {
     "output_type": "execute_result",
     "data": {
      "text/plain": [
       "      YearOfObservation  Insured_Period  Residential  Building_Painted  \\\n",
       "0                  2013        1.000000            0                 1   \n",
       "1                  2015        1.000000            0                 0   \n",
       "2                  2014        1.000000            0                 1   \n",
       "3                  2013        1.000000            0                 0   \n",
       "4                  2014        1.000000            0                 0   \n",
       "...                 ...             ...          ...               ...   \n",
       "7155               2012        1.000000            1                 0   \n",
       "7156               2013        1.000000            0                 0   \n",
       "7157               2016        0.038251            0                 0   \n",
       "7158               2013        1.000000            0                 0   \n",
       "7159               2014        1.000000            0                 0   \n",
       "\n",
       "      Building_Fenced  Garden  Settlement  Building Dimension  Building_Type  \\\n",
       "0                   0     1.0           0               290.0              1   \n",
       "1                   1     0.0           1               490.0              1   \n",
       "2                   0     1.0           0               595.0              1   \n",
       "3                   0     1.0           0              2840.0              1   \n",
       "4                   1     0.0           1               680.0              1   \n",
       "...               ...     ...         ...                 ...            ...   \n",
       "7155                0     1.0           0              1083.0              1   \n",
       "7156                0     1.0           0              1083.0              2   \n",
       "7157                0     1.0           0              1083.0              1   \n",
       "7158                0     1.0           0              1083.0              1   \n",
       "7159                0     1.0           0              1083.0              1   \n",
       "\n",
       "      Date_of_Occupancy NumberOfWindows  \n",
       "0                1960.0               0  \n",
       "1                1850.0               4  \n",
       "2                1960.0               0  \n",
       "3                1960.0               0  \n",
       "4                1800.0               3  \n",
       "...                 ...             ...  \n",
       "7155             2001.0               0  \n",
       "7156             1980.0               0  \n",
       "7157             1992.0               0  \n",
       "7158             1972.0               0  \n",
       "7159             2004.0               0  \n",
       "\n",
       "[7160 rows x 11 columns]"
      ],
      "text/html": "<div>\n<style scoped>\n    .dataframe tbody tr th:only-of-type {\n        vertical-align: middle;\n    }\n\n    .dataframe tbody tr th {\n        vertical-align: top;\n    }\n\n    .dataframe thead th {\n        text-align: right;\n    }\n</style>\n<table border=\"1\" class=\"dataframe\">\n  <thead>\n    <tr style=\"text-align: right;\">\n      <th></th>\n      <th>YearOfObservation</th>\n      <th>Insured_Period</th>\n      <th>Residential</th>\n      <th>Building_Painted</th>\n      <th>Building_Fenced</th>\n      <th>Garden</th>\n      <th>Settlement</th>\n      <th>Building Dimension</th>\n      <th>Building_Type</th>\n      <th>Date_of_Occupancy</th>\n      <th>NumberOfWindows</th>\n    </tr>\n  </thead>\n  <tbody>\n    <tr>\n      <th>0</th>\n      <td>2013</td>\n      <td>1.000000</td>\n      <td>0</td>\n      <td>1</td>\n      <td>0</td>\n      <td>1.0</td>\n      <td>0</td>\n      <td>290.0</td>\n      <td>1</td>\n      <td>1960.0</td>\n      <td>0</td>\n    </tr>\n    <tr>\n      <th>1</th>\n      <td>2015</td>\n      <td>1.000000</td>\n      <td>0</td>\n      <td>0</td>\n      <td>1</td>\n      <td>0.0</td>\n      <td>1</td>\n      <td>490.0</td>\n      <td>1</td>\n      <td>1850.0</td>\n      <td>4</td>\n    </tr>\n    <tr>\n      <th>2</th>\n      <td>2014</td>\n      <td>1.000000</td>\n      <td>0</td>\n      <td>1</td>\n      <td>0</td>\n      <td>1.0</td>\n      <td>0</td>\n      <td>595.0</td>\n      <td>1</td>\n      <td>1960.0</td>\n      <td>0</td>\n    </tr>\n    <tr>\n      <th>3</th>\n      <td>2013</td>\n      <td>1.000000</td>\n      <td>0</td>\n      <td>0</td>\n      <td>0</td>\n      <td>1.0</td>\n      <td>0</td>\n      <td>2840.0</td>\n      <td>1</td>\n      <td>1960.0</td>\n      <td>0</td>\n    </tr>\n    <tr>\n      <th>4</th>\n      <td>2014</td>\n      <td>1.000000</td>\n      <td>0</td>\n      <td>0</td>\n      <td>1</td>\n      <td>0.0</td>\n      <td>1</td>\n      <td>680.0</td>\n      <td>1</td>\n      <td>1800.0</td>\n      <td>3</td>\n    </tr>\n    <tr>\n      <th>...</th>\n      <td>...</td>\n      <td>...</td>\n      <td>...</td>\n      <td>...</td>\n      <td>...</td>\n      <td>...</td>\n      <td>...</td>\n      <td>...</td>\n      <td>...</td>\n      <td>...</td>\n      <td>...</td>\n    </tr>\n    <tr>\n      <th>7155</th>\n      <td>2012</td>\n      <td>1.000000</td>\n      <td>1</td>\n      <td>0</td>\n      <td>0</td>\n      <td>1.0</td>\n      <td>0</td>\n      <td>1083.0</td>\n      <td>1</td>\n      <td>2001.0</td>\n      <td>0</td>\n    </tr>\n    <tr>\n      <th>7156</th>\n      <td>2013</td>\n      <td>1.000000</td>\n      <td>0</td>\n      <td>0</td>\n      <td>0</td>\n      <td>1.0</td>\n      <td>0</td>\n      <td>1083.0</td>\n      <td>2</td>\n      <td>1980.0</td>\n      <td>0</td>\n    </tr>\n    <tr>\n      <th>7157</th>\n      <td>2016</td>\n      <td>0.038251</td>\n      <td>0</td>\n      <td>0</td>\n      <td>0</td>\n      <td>1.0</td>\n      <td>0</td>\n      <td>1083.0</td>\n      <td>1</td>\n      <td>1992.0</td>\n      <td>0</td>\n    </tr>\n    <tr>\n      <th>7158</th>\n      <td>2013</td>\n      <td>1.000000</td>\n      <td>0</td>\n      <td>0</td>\n      <td>0</td>\n      <td>1.0</td>\n      <td>0</td>\n      <td>1083.0</td>\n      <td>1</td>\n      <td>1972.0</td>\n      <td>0</td>\n    </tr>\n    <tr>\n      <th>7159</th>\n      <td>2014</td>\n      <td>1.000000</td>\n      <td>0</td>\n      <td>0</td>\n      <td>0</td>\n      <td>1.0</td>\n      <td>0</td>\n      <td>1083.0</td>\n      <td>1</td>\n      <td>2004.0</td>\n      <td>0</td>\n    </tr>\n  </tbody>\n</table>\n<p>7160 rows × 11 columns</p>\n</div>"
     },
     "metadata": {},
     "execution_count": 46
    }
   ],
   "source": [
    "X = X.drop('Geo_Code',axis=1)\n",
    "X"
   ]
  },
  {
   "cell_type": "code",
   "execution_count": 47,
   "metadata": {},
   "outputs": [],
   "source": [
    "X_Train, X_Test, y_Train, y_Test = train_test_split(X,y, test_size=0.33, random_state=0)"
   ]
  },
  {
   "cell_type": "code",
   "execution_count": 48,
   "metadata": {},
   "outputs": [
    {
     "output_type": "execute_result",
     "data": {
      "text/plain": [
       "(4797, 11)"
      ]
     },
     "metadata": {},
     "execution_count": 48
    }
   ],
   "source": [
    "X_Train.shape"
   ]
  },
  {
   "cell_type": "code",
   "execution_count": 49,
   "metadata": {},
   "outputs": [
    {
     "output_type": "execute_result",
     "data": {
      "text/plain": [
       "(2363, 11)"
      ]
     },
     "metadata": {},
     "execution_count": 49
    }
   ],
   "source": [
    "X_Test.shape"
   ]
  },
  {
   "cell_type": "code",
   "execution_count": 50,
   "metadata": {},
   "outputs": [
    {
     "output_type": "execute_result",
     "data": {
      "text/plain": [
       "(4797,)"
      ]
     },
     "metadata": {},
     "execution_count": 50
    }
   ],
   "source": [
    "y_Train.shape"
   ]
  },
  {
   "source": [
    "# Building Our Model"
   ],
   "cell_type": "markdown",
   "metadata": {}
  },
  {
   "cell_type": "code",
   "execution_count": 56,
   "metadata": {},
   "outputs": [],
   "source": [
    "from sklearn.linear_model import SGDClassifier\n",
    "from sklearn.neighbors import NearestNeighbors\n",
    "from sklearn.ensemble import RandomForestClassifier\n",
    "from sklearn.neighbors import KNeighborsClassifier\n",
    "from sklearn.linear_model import LinearRegression\n",
    "from sklearn.svm import LinearSVC  \n",
    "from sklearn.naive_bayes import GaussianNB\n",
    "from catboost import CatBoostClassifier"
   ]
  },
  {
   "cell_type": "code",
   "execution_count": 57,
   "metadata": {},
   "outputs": [],
   "source": [
    "SDG_Model = SGDClassifier()\n",
    "NN_Model = NearestNeighbors()\n",
    "KNC_Model = KNeighborsClassifier()\n",
    "RFC_Model = RandomForestClassifier()\n",
    "LR_Model = LinearRegression()\n",
    "LSVC_Model = LinearSVC()\n",
    "GNB_Model = GaussianNB()\n",
    "CBC_Model = CatBoostClassifier()\n"
   ]
  },
  {
   "cell_type": "code",
   "execution_count": 58,
   "metadata": {
    "tags": [
     "outputPrepend"
    ]
   },
   "outputs": [
    {
     "output_type": "stream",
     "name": "stdout",
     "text": [
      "maining: 1.27s\n",
      "615:\tlearn: 0.4107625\ttotal: 2.03s\tremaining: 1.27s\n",
      "616:\tlearn: 0.4106521\ttotal: 2.04s\tremaining: 1.26s\n",
      "617:\tlearn: 0.4105674\ttotal: 2.04s\tremaining: 1.26s\n",
      "618:\tlearn: 0.4104558\ttotal: 2.04s\tremaining: 1.26s\n",
      "619:\tlearn: 0.4104331\ttotal: 2.04s\tremaining: 1.25s\n",
      "620:\tlearn: 0.4103663\ttotal: 2.05s\tremaining: 1.25s\n",
      "621:\tlearn: 0.4103282\ttotal: 2.05s\tremaining: 1.25s\n",
      "622:\tlearn: 0.4102754\ttotal: 2.05s\tremaining: 1.24s\n",
      "623:\tlearn: 0.4101157\ttotal: 2.05s\tremaining: 1.24s\n",
      "624:\tlearn: 0.4100124\ttotal: 2.06s\tremaining: 1.23s\n",
      "625:\tlearn: 0.4099157\ttotal: 2.06s\tremaining: 1.23s\n",
      "626:\tlearn: 0.4098205\ttotal: 2.06s\tremaining: 1.23s\n",
      "627:\tlearn: 0.4097845\ttotal: 2.07s\tremaining: 1.22s\n",
      "628:\tlearn: 0.4096323\ttotal: 2.07s\tremaining: 1.22s\n",
      "629:\tlearn: 0.4095391\ttotal: 2.07s\tremaining: 1.22s\n",
      "630:\tlearn: 0.4094983\ttotal: 2.07s\tremaining: 1.21s\n",
      "631:\tlearn: 0.4094535\ttotal: 2.08s\tremaining: 1.21s\n",
      "632:\tlearn: 0.4093478\ttotal: 2.08s\tremaining: 1.21s\n",
      "633:\tlearn: 0.4091964\ttotal: 2.08s\tremaining: 1.2s\n",
      "634:\tlearn: 0.4091231\ttotal: 2.08s\tremaining: 1.2s\n",
      "635:\tlearn: 0.4090277\ttotal: 2.09s\tremaining: 1.19s\n",
      "636:\tlearn: 0.4089803\ttotal: 2.09s\tremaining: 1.19s\n",
      "637:\tlearn: 0.4088908\ttotal: 2.09s\tremaining: 1.19s\n",
      "638:\tlearn: 0.4088380\ttotal: 2.09s\tremaining: 1.18s\n",
      "639:\tlearn: 0.4087489\ttotal: 2.1s\tremaining: 1.18s\n",
      "640:\tlearn: 0.4087036\ttotal: 2.1s\tremaining: 1.18s\n",
      "641:\tlearn: 0.4086317\ttotal: 2.1s\tremaining: 1.17s\n",
      "642:\tlearn: 0.4085785\ttotal: 2.1s\tremaining: 1.17s\n",
      "643:\tlearn: 0.4084993\ttotal: 2.11s\tremaining: 1.17s\n",
      "644:\tlearn: 0.4084259\ttotal: 2.11s\tremaining: 1.16s\n",
      "645:\tlearn: 0.4083537\ttotal: 2.11s\tremaining: 1.16s\n",
      "646:\tlearn: 0.4082615\ttotal: 2.12s\tremaining: 1.15s\n",
      "647:\tlearn: 0.4082289\ttotal: 2.12s\tremaining: 1.15s\n",
      "648:\tlearn: 0.4081551\ttotal: 2.12s\tremaining: 1.15s\n",
      "649:\tlearn: 0.4081047\ttotal: 2.12s\tremaining: 1.14s\n",
      "650:\tlearn: 0.4079750\ttotal: 2.13s\tremaining: 1.14s\n",
      "651:\tlearn: 0.4078148\ttotal: 2.13s\tremaining: 1.14s\n",
      "652:\tlearn: 0.4076808\ttotal: 2.13s\tremaining: 1.13s\n",
      "653:\tlearn: 0.4075971\ttotal: 2.14s\tremaining: 1.13s\n",
      "654:\tlearn: 0.4075275\ttotal: 2.14s\tremaining: 1.13s\n",
      "655:\tlearn: 0.4074680\ttotal: 2.14s\tremaining: 1.12s\n",
      "656:\tlearn: 0.4073688\ttotal: 2.14s\tremaining: 1.12s\n",
      "657:\tlearn: 0.4072209\ttotal: 2.15s\tremaining: 1.11s\n",
      "658:\tlearn: 0.4071225\ttotal: 2.15s\tremaining: 1.11s\n",
      "659:\tlearn: 0.4070488\ttotal: 2.15s\tremaining: 1.11s\n",
      "660:\tlearn: 0.4069416\ttotal: 2.15s\tremaining: 1.1s\n",
      "661:\tlearn: 0.4068622\ttotal: 2.16s\tremaining: 1.1s\n",
      "662:\tlearn: 0.4067635\ttotal: 2.16s\tremaining: 1.1s\n",
      "663:\tlearn: 0.4066754\ttotal: 2.16s\tremaining: 1.09s\n",
      "664:\tlearn: 0.4065932\ttotal: 2.17s\tremaining: 1.09s\n",
      "665:\tlearn: 0.4064948\ttotal: 2.17s\tremaining: 1.09s\n",
      "666:\tlearn: 0.4063516\ttotal: 2.17s\tremaining: 1.08s\n",
      "667:\tlearn: 0.4062977\ttotal: 2.17s\tremaining: 1.08s\n",
      "668:\tlearn: 0.4062104\ttotal: 2.18s\tremaining: 1.08s\n",
      "669:\tlearn: 0.4061028\ttotal: 2.18s\tremaining: 1.07s\n",
      "670:\tlearn: 0.4060341\ttotal: 2.18s\tremaining: 1.07s\n",
      "671:\tlearn: 0.4059324\ttotal: 2.19s\tremaining: 1.07s\n",
      "672:\tlearn: 0.4058546\ttotal: 2.19s\tremaining: 1.06s\n",
      "673:\tlearn: 0.4057653\ttotal: 2.19s\tremaining: 1.06s\n",
      "674:\tlearn: 0.4057039\ttotal: 2.19s\tremaining: 1.06s\n",
      "675:\tlearn: 0.4055517\ttotal: 2.2s\tremaining: 1.05s\n",
      "676:\tlearn: 0.4055093\ttotal: 2.2s\tremaining: 1.05s\n",
      "677:\tlearn: 0.4054447\ttotal: 2.2s\tremaining: 1.05s\n",
      "678:\tlearn: 0.4053143\ttotal: 2.21s\tremaining: 1.04s\n",
      "679:\tlearn: 0.4051569\ttotal: 2.21s\tremaining: 1.04s\n",
      "680:\tlearn: 0.4050563\ttotal: 2.21s\tremaining: 1.03s\n",
      "681:\tlearn: 0.4049701\ttotal: 2.21s\tremaining: 1.03s\n",
      "682:\tlearn: 0.4049224\ttotal: 2.22s\tremaining: 1.03s\n",
      "683:\tlearn: 0.4048598\ttotal: 2.22s\tremaining: 1.02s\n",
      "684:\tlearn: 0.4047265\ttotal: 2.22s\tremaining: 1.02s\n",
      "685:\tlearn: 0.4046252\ttotal: 2.22s\tremaining: 1.02s\n",
      "686:\tlearn: 0.4045282\ttotal: 2.23s\tremaining: 1.01s\n",
      "687:\tlearn: 0.4043564\ttotal: 2.23s\tremaining: 1.01s\n",
      "688:\tlearn: 0.4043027\ttotal: 2.23s\tremaining: 1.01s\n",
      "689:\tlearn: 0.4042322\ttotal: 2.23s\tremaining: 1s\n",
      "690:\tlearn: 0.4041793\ttotal: 2.24s\tremaining: 1s\n",
      "691:\tlearn: 0.4041424\ttotal: 2.24s\tremaining: 997ms\n",
      "692:\tlearn: 0.4040713\ttotal: 2.24s\tremaining: 994ms\n",
      "693:\tlearn: 0.4039814\ttotal: 2.25s\tremaining: 990ms\n",
      "694:\tlearn: 0.4039034\ttotal: 2.25s\tremaining: 987ms\n",
      "695:\tlearn: 0.4038061\ttotal: 2.25s\tremaining: 983ms\n",
      "696:\tlearn: 0.4037114\ttotal: 2.25s\tremaining: 980ms\n",
      "697:\tlearn: 0.4036607\ttotal: 2.26s\tremaining: 976ms\n",
      "698:\tlearn: 0.4035353\ttotal: 2.26s\tremaining: 973ms\n",
      "699:\tlearn: 0.4034950\ttotal: 2.26s\tremaining: 970ms\n",
      "700:\tlearn: 0.4033898\ttotal: 2.27s\tremaining: 966ms\n",
      "701:\tlearn: 0.4033243\ttotal: 2.27s\tremaining: 963ms\n",
      "702:\tlearn: 0.4032390\ttotal: 2.27s\tremaining: 959ms\n",
      "703:\tlearn: 0.4031574\ttotal: 2.27s\tremaining: 956ms\n",
      "704:\tlearn: 0.4030629\ttotal: 2.27s\tremaining: 952ms\n",
      "705:\tlearn: 0.4029535\ttotal: 2.28s\tremaining: 949ms\n",
      "706:\tlearn: 0.4028369\ttotal: 2.28s\tremaining: 945ms\n",
      "707:\tlearn: 0.4027987\ttotal: 2.28s\tremaining: 942ms\n",
      "708:\tlearn: 0.4027489\ttotal: 2.29s\tremaining: 938ms\n",
      "709:\tlearn: 0.4026788\ttotal: 2.29s\tremaining: 935ms\n",
      "710:\tlearn: 0.4025621\ttotal: 2.29s\tremaining: 932ms\n",
      "711:\tlearn: 0.4024503\ttotal: 2.29s\tremaining: 928ms\n",
      "712:\tlearn: 0.4023568\ttotal: 2.3s\tremaining: 925ms\n",
      "713:\tlearn: 0.4022618\ttotal: 2.3s\tremaining: 921ms\n",
      "714:\tlearn: 0.4022178\ttotal: 2.3s\tremaining: 918ms\n",
      "715:\tlearn: 0.4021379\ttotal: 2.31s\tremaining: 914ms\n",
      "716:\tlearn: 0.4020476\ttotal: 2.31s\tremaining: 911ms\n",
      "717:\tlearn: 0.4018630\ttotal: 2.31s\tremaining: 908ms\n",
      "718:\tlearn: 0.4017957\ttotal: 2.31s\tremaining: 904ms\n",
      "719:\tlearn: 0.4017143\ttotal: 2.32s\tremaining: 901ms\n",
      "720:\tlearn: 0.4016541\ttotal: 2.32s\tremaining: 897ms\n",
      "721:\tlearn: 0.4016344\ttotal: 2.32s\tremaining: 894ms\n",
      "722:\tlearn: 0.4015609\ttotal: 2.32s\tremaining: 890ms\n",
      "723:\tlearn: 0.4015018\ttotal: 2.33s\tremaining: 887ms\n",
      "724:\tlearn: 0.4013700\ttotal: 2.33s\tremaining: 884ms\n",
      "725:\tlearn: 0.4012656\ttotal: 2.33s\tremaining: 880ms\n",
      "726:\tlearn: 0.4011154\ttotal: 2.33s\tremaining: 877ms\n",
      "727:\tlearn: 0.4010525\ttotal: 2.34s\tremaining: 874ms\n",
      "728:\tlearn: 0.4009909\ttotal: 2.34s\tremaining: 871ms\n",
      "729:\tlearn: 0.4009042\ttotal: 2.34s\tremaining: 867ms\n",
      "730:\tlearn: 0.4008471\ttotal: 2.35s\tremaining: 864ms\n",
      "731:\tlearn: 0.4007495\ttotal: 2.35s\tremaining: 860ms\n",
      "732:\tlearn: 0.4006699\ttotal: 2.35s\tremaining: 857ms\n",
      "733:\tlearn: 0.4006037\ttotal: 2.36s\tremaining: 854ms\n",
      "734:\tlearn: 0.4005194\ttotal: 2.36s\tremaining: 851ms\n",
      "735:\tlearn: 0.4004227\ttotal: 2.36s\tremaining: 847ms\n",
      "736:\tlearn: 0.4002945\ttotal: 2.37s\tremaining: 844ms\n",
      "737:\tlearn: 0.4002655\ttotal: 2.37s\tremaining: 841ms\n",
      "738:\tlearn: 0.4002154\ttotal: 2.37s\tremaining: 838ms\n",
      "739:\tlearn: 0.4000840\ttotal: 2.38s\tremaining: 835ms\n",
      "740:\tlearn: 0.3999746\ttotal: 2.38s\tremaining: 831ms\n",
      "741:\tlearn: 0.3998279\ttotal: 2.38s\tremaining: 828ms\n",
      "742:\tlearn: 0.3997701\ttotal: 2.38s\tremaining: 825ms\n",
      "743:\tlearn: 0.3997054\ttotal: 2.39s\tremaining: 822ms\n",
      "744:\tlearn: 0.3996397\ttotal: 2.39s\tremaining: 818ms\n",
      "745:\tlearn: 0.3995003\ttotal: 2.39s\tremaining: 815ms\n",
      "746:\tlearn: 0.3994127\ttotal: 2.4s\tremaining: 811ms\n",
      "747:\tlearn: 0.3993053\ttotal: 2.4s\tremaining: 808ms\n",
      "748:\tlearn: 0.3992490\ttotal: 2.4s\tremaining: 805ms\n",
      "749:\tlearn: 0.3991968\ttotal: 2.4s\tremaining: 802ms\n",
      "750:\tlearn: 0.3991091\ttotal: 2.41s\tremaining: 798ms\n",
      "751:\tlearn: 0.3990085\ttotal: 2.41s\tremaining: 795ms\n",
      "752:\tlearn: 0.3989884\ttotal: 2.41s\tremaining: 791ms\n",
      "753:\tlearn: 0.3989229\ttotal: 2.42s\tremaining: 788ms\n",
      "754:\tlearn: 0.3988891\ttotal: 2.42s\tremaining: 785ms\n",
      "755:\tlearn: 0.3987513\ttotal: 2.42s\tremaining: 781ms\n",
      "756:\tlearn: 0.3987176\ttotal: 2.42s\tremaining: 778ms\n",
      "757:\tlearn: 0.3986078\ttotal: 2.43s\tremaining: 775ms\n",
      "758:\tlearn: 0.3984727\ttotal: 2.43s\tremaining: 771ms\n",
      "759:\tlearn: 0.3984102\ttotal: 2.43s\tremaining: 768ms\n",
      "760:\tlearn: 0.3982987\ttotal: 2.43s\tremaining: 765ms\n",
      "761:\tlearn: 0.3981487\ttotal: 2.44s\tremaining: 761ms\n",
      "762:\tlearn: 0.3981080\ttotal: 2.44s\tremaining: 758ms\n",
      "763:\tlearn: 0.3980490\ttotal: 2.44s\tremaining: 754ms\n",
      "764:\tlearn: 0.3979780\ttotal: 2.45s\tremaining: 751ms\n",
      "765:\tlearn: 0.3979192\ttotal: 2.45s\tremaining: 748ms\n",
      "766:\tlearn: 0.3978431\ttotal: 2.45s\tremaining: 745ms\n",
      "767:\tlearn: 0.3977621\ttotal: 2.45s\tremaining: 742ms\n",
      "768:\tlearn: 0.3976856\ttotal: 2.46s\tremaining: 738ms\n",
      "769:\tlearn: 0.3975992\ttotal: 2.46s\tremaining: 735ms\n",
      "770:\tlearn: 0.3975122\ttotal: 2.46s\tremaining: 732ms\n",
      "771:\tlearn: 0.3974430\ttotal: 2.46s\tremaining: 728ms\n",
      "772:\tlearn: 0.3974006\ttotal: 2.47s\tremaining: 725ms\n",
      "773:\tlearn: 0.3972635\ttotal: 2.47s\tremaining: 722ms\n",
      "774:\tlearn: 0.3971929\ttotal: 2.47s\tremaining: 718ms\n",
      "775:\tlearn: 0.3970855\ttotal: 2.48s\tremaining: 715ms\n",
      "776:\tlearn: 0.3970611\ttotal: 2.48s\tremaining: 712ms\n",
      "777:\tlearn: 0.3969931\ttotal: 2.48s\tremaining: 708ms\n",
      "778:\tlearn: 0.3969012\ttotal: 2.48s\tremaining: 705ms\n",
      "779:\tlearn: 0.3968581\ttotal: 2.49s\tremaining: 702ms\n",
      "780:\tlearn: 0.3968383\ttotal: 2.49s\tremaining: 698ms\n",
      "781:\tlearn: 0.3967922\ttotal: 2.49s\tremaining: 695ms\n",
      "782:\tlearn: 0.3967325\ttotal: 2.5s\tremaining: 692ms\n",
      "783:\tlearn: 0.3966873\ttotal: 2.5s\tremaining: 689ms\n",
      "784:\tlearn: 0.3965706\ttotal: 2.5s\tremaining: 685ms\n",
      "785:\tlearn: 0.3964860\ttotal: 2.51s\tremaining: 683ms\n",
      "786:\tlearn: 0.3963925\ttotal: 2.51s\tremaining: 679ms\n",
      "787:\tlearn: 0.3963178\ttotal: 2.51s\tremaining: 676ms\n",
      "788:\tlearn: 0.3962280\ttotal: 2.52s\tremaining: 673ms\n",
      "789:\tlearn: 0.3961377\ttotal: 2.52s\tremaining: 670ms\n",
      "790:\tlearn: 0.3960638\ttotal: 2.52s\tremaining: 666ms\n",
      "791:\tlearn: 0.3959854\ttotal: 2.52s\tremaining: 663ms\n",
      "792:\tlearn: 0.3958758\ttotal: 2.53s\tremaining: 660ms\n",
      "793:\tlearn: 0.3958278\ttotal: 2.53s\tremaining: 657ms\n",
      "794:\tlearn: 0.3956934\ttotal: 2.53s\tremaining: 654ms\n",
      "795:\tlearn: 0.3955674\ttotal: 2.54s\tremaining: 651ms\n",
      "796:\tlearn: 0.3954759\ttotal: 2.54s\tremaining: 647ms\n",
      "797:\tlearn: 0.3954375\ttotal: 2.54s\tremaining: 644ms\n",
      "798:\tlearn: 0.3952913\ttotal: 2.55s\tremaining: 641ms\n",
      "799:\tlearn: 0.3952071\ttotal: 2.55s\tremaining: 638ms\n",
      "800:\tlearn: 0.3950771\ttotal: 2.55s\tremaining: 635ms\n",
      "801:\tlearn: 0.3949750\ttotal: 2.56s\tremaining: 631ms\n",
      "802:\tlearn: 0.3948932\ttotal: 2.56s\tremaining: 628ms\n",
      "803:\tlearn: 0.3947696\ttotal: 2.56s\tremaining: 625ms\n",
      "804:\tlearn: 0.3947359\ttotal: 2.56s\tremaining: 621ms\n",
      "805:\tlearn: 0.3946934\ttotal: 2.57s\tremaining: 618ms\n",
      "806:\tlearn: 0.3946326\ttotal: 2.57s\tremaining: 615ms\n",
      "807:\tlearn: 0.3945861\ttotal: 2.57s\tremaining: 612ms\n",
      "808:\tlearn: 0.3944835\ttotal: 2.58s\tremaining: 609ms\n",
      "809:\tlearn: 0.3944305\ttotal: 2.58s\tremaining: 605ms\n",
      "810:\tlearn: 0.3943427\ttotal: 2.58s\tremaining: 602ms\n",
      "811:\tlearn: 0.3942384\ttotal: 2.59s\tremaining: 599ms\n",
      "812:\tlearn: 0.3941383\ttotal: 2.59s\tremaining: 596ms\n",
      "813:\tlearn: 0.3940861\ttotal: 2.59s\tremaining: 592ms\n",
      "814:\tlearn: 0.3939535\ttotal: 2.59s\tremaining: 589ms\n",
      "815:\tlearn: 0.3938387\ttotal: 2.6s\tremaining: 586ms\n",
      "816:\tlearn: 0.3937612\ttotal: 2.6s\tremaining: 582ms\n",
      "817:\tlearn: 0.3936707\ttotal: 2.6s\tremaining: 579ms\n",
      "818:\tlearn: 0.3935901\ttotal: 2.6s\tremaining: 576ms\n",
      "819:\tlearn: 0.3934773\ttotal: 2.61s\tremaining: 573ms\n",
      "820:\tlearn: 0.3933996\ttotal: 2.61s\tremaining: 569ms\n",
      "821:\tlearn: 0.3933321\ttotal: 2.61s\tremaining: 566ms\n",
      "822:\tlearn: 0.3932978\ttotal: 2.62s\tremaining: 563ms\n",
      "823:\tlearn: 0.3932386\ttotal: 2.62s\tremaining: 559ms\n",
      "824:\tlearn: 0.3931243\ttotal: 2.62s\tremaining: 556ms\n",
      "825:\tlearn: 0.3930559\ttotal: 2.62s\tremaining: 553ms\n",
      "826:\tlearn: 0.3929382\ttotal: 2.63s\tremaining: 549ms\n",
      "827:\tlearn: 0.3928745\ttotal: 2.63s\tremaining: 546ms\n",
      "828:\tlearn: 0.3928171\ttotal: 2.63s\tremaining: 543ms\n",
      "829:\tlearn: 0.3927609\ttotal: 2.63s\tremaining: 540ms\n",
      "830:\tlearn: 0.3926325\ttotal: 2.64s\tremaining: 537ms\n",
      "831:\tlearn: 0.3925571\ttotal: 2.64s\tremaining: 533ms\n",
      "832:\tlearn: 0.3924088\ttotal: 2.64s\tremaining: 530ms\n",
      "833:\tlearn: 0.3923477\ttotal: 2.65s\tremaining: 527ms\n",
      "834:\tlearn: 0.3922593\ttotal: 2.65s\tremaining: 524ms\n",
      "835:\tlearn: 0.3921813\ttotal: 2.65s\tremaining: 520ms\n",
      "836:\tlearn: 0.3921020\ttotal: 2.65s\tremaining: 517ms\n",
      "837:\tlearn: 0.3920447\ttotal: 2.66s\tremaining: 514ms\n",
      "838:\tlearn: 0.3919295\ttotal: 2.66s\tremaining: 511ms\n",
      "839:\tlearn: 0.3918175\ttotal: 2.66s\tremaining: 508ms\n",
      "840:\tlearn: 0.3917240\ttotal: 2.67s\tremaining: 504ms\n",
      "841:\tlearn: 0.3915872\ttotal: 2.67s\tremaining: 501ms\n",
      "842:\tlearn: 0.3915225\ttotal: 2.67s\tremaining: 498ms\n",
      "843:\tlearn: 0.3914302\ttotal: 2.68s\tremaining: 495ms\n",
      "844:\tlearn: 0.3913422\ttotal: 2.68s\tremaining: 492ms\n",
      "845:\tlearn: 0.3912662\ttotal: 2.68s\tremaining: 489ms\n",
      "846:\tlearn: 0.3911691\ttotal: 2.69s\tremaining: 485ms\n",
      "847:\tlearn: 0.3910722\ttotal: 2.69s\tremaining: 482ms\n",
      "848:\tlearn: 0.3910269\ttotal: 2.69s\tremaining: 479ms\n",
      "849:\tlearn: 0.3909371\ttotal: 2.7s\tremaining: 476ms\n",
      "850:\tlearn: 0.3909039\ttotal: 2.7s\tremaining: 473ms\n",
      "851:\tlearn: 0.3908278\ttotal: 2.7s\tremaining: 470ms\n",
      "852:\tlearn: 0.3907032\ttotal: 2.71s\tremaining: 467ms\n",
      "853:\tlearn: 0.3906128\ttotal: 2.71s\tremaining: 464ms\n",
      "854:\tlearn: 0.3905474\ttotal: 2.71s\tremaining: 460ms\n",
      "855:\tlearn: 0.3904920\ttotal: 2.72s\tremaining: 457ms\n",
      "856:\tlearn: 0.3903976\ttotal: 2.72s\tremaining: 454ms\n",
      "857:\tlearn: 0.3902821\ttotal: 2.73s\tremaining: 451ms\n",
      "858:\tlearn: 0.3902424\ttotal: 2.73s\tremaining: 448ms\n",
      "859:\tlearn: 0.3901854\ttotal: 2.73s\tremaining: 445ms\n",
      "860:\tlearn: 0.3901056\ttotal: 2.73s\tremaining: 442ms\n",
      "861:\tlearn: 0.3900171\ttotal: 2.74s\tremaining: 438ms\n",
      "862:\tlearn: 0.3899131\ttotal: 2.74s\tremaining: 435ms\n",
      "863:\tlearn: 0.3898942\ttotal: 2.74s\tremaining: 432ms\n",
      "864:\tlearn: 0.3898155\ttotal: 2.75s\tremaining: 429ms\n",
      "865:\tlearn: 0.3896989\ttotal: 2.75s\tremaining: 425ms\n",
      "866:\tlearn: 0.3896125\ttotal: 2.75s\tremaining: 422ms\n",
      "867:\tlearn: 0.3895592\ttotal: 2.75s\tremaining: 419ms\n",
      "868:\tlearn: 0.3895288\ttotal: 2.76s\tremaining: 416ms\n",
      "869:\tlearn: 0.3894337\ttotal: 2.76s\tremaining: 413ms\n",
      "870:\tlearn: 0.3893315\ttotal: 2.76s\tremaining: 409ms\n",
      "871:\tlearn: 0.3892512\ttotal: 2.77s\tremaining: 406ms\n",
      "872:\tlearn: 0.3891082\ttotal: 2.77s\tremaining: 403ms\n",
      "873:\tlearn: 0.3889854\ttotal: 2.77s\tremaining: 400ms\n",
      "874:\tlearn: 0.3888982\ttotal: 2.78s\tremaining: 397ms\n",
      "875:\tlearn: 0.3888187\ttotal: 2.78s\tremaining: 393ms\n",
      "876:\tlearn: 0.3887018\ttotal: 2.78s\tremaining: 390ms\n",
      "877:\tlearn: 0.3886228\ttotal: 2.79s\tremaining: 387ms\n",
      "878:\tlearn: 0.3885468\ttotal: 2.79s\tremaining: 384ms\n",
      "879:\tlearn: 0.3884669\ttotal: 2.79s\tremaining: 381ms\n",
      "880:\tlearn: 0.3884212\ttotal: 2.79s\tremaining: 377ms\n",
      "881:\tlearn: 0.3882566\ttotal: 2.8s\tremaining: 374ms\n",
      "882:\tlearn: 0.3881805\ttotal: 2.8s\tremaining: 371ms\n",
      "883:\tlearn: 0.3881130\ttotal: 2.8s\tremaining: 368ms\n",
      "884:\tlearn: 0.3880688\ttotal: 2.8s\tremaining: 364ms\n",
      "885:\tlearn: 0.3879924\ttotal: 2.81s\tremaining: 361ms\n",
      "886:\tlearn: 0.3879202\ttotal: 2.81s\tremaining: 358ms\n",
      "887:\tlearn: 0.3878290\ttotal: 2.81s\tremaining: 355ms\n",
      "888:\tlearn: 0.3877377\ttotal: 2.82s\tremaining: 352ms\n",
      "889:\tlearn: 0.3876996\ttotal: 2.82s\tremaining: 349ms\n",
      "890:\tlearn: 0.3875714\ttotal: 2.82s\tremaining: 345ms\n",
      "891:\tlearn: 0.3875322\ttotal: 2.83s\tremaining: 342ms\n",
      "892:\tlearn: 0.3874858\ttotal: 2.83s\tremaining: 339ms\n",
      "893:\tlearn: 0.3874242\ttotal: 2.83s\tremaining: 336ms\n",
      "894:\tlearn: 0.3873565\ttotal: 2.83s\tremaining: 333ms\n",
      "895:\tlearn: 0.3872902\ttotal: 2.84s\tremaining: 329ms\n",
      "896:\tlearn: 0.3872131\ttotal: 2.84s\tremaining: 326ms\n",
      "897:\tlearn: 0.3871581\ttotal: 2.84s\tremaining: 323ms\n",
      "898:\tlearn: 0.3870728\ttotal: 2.85s\tremaining: 320ms\n",
      "899:\tlearn: 0.3870478\ttotal: 2.85s\tremaining: 317ms\n",
      "900:\tlearn: 0.3869493\ttotal: 2.85s\tremaining: 314ms\n",
      "901:\tlearn: 0.3868539\ttotal: 2.86s\tremaining: 310ms\n",
      "902:\tlearn: 0.3868028\ttotal: 2.86s\tremaining: 307ms\n",
      "903:\tlearn: 0.3867245\ttotal: 2.86s\tremaining: 304ms\n",
      "904:\tlearn: 0.3866450\ttotal: 2.87s\tremaining: 301ms\n",
      "905:\tlearn: 0.3866047\ttotal: 2.87s\tremaining: 298ms\n",
      "906:\tlearn: 0.3865622\ttotal: 2.87s\tremaining: 294ms\n",
      "907:\tlearn: 0.3865386\ttotal: 2.87s\tremaining: 291ms\n",
      "908:\tlearn: 0.3864637\ttotal: 2.88s\tremaining: 288ms\n",
      "909:\tlearn: 0.3863606\ttotal: 2.88s\tremaining: 285ms\n",
      "910:\tlearn: 0.3863110\ttotal: 2.88s\tremaining: 282ms\n",
      "911:\tlearn: 0.3862235\ttotal: 2.89s\tremaining: 278ms\n",
      "912:\tlearn: 0.3861167\ttotal: 2.89s\tremaining: 275ms\n",
      "913:\tlearn: 0.3860244\ttotal: 2.89s\tremaining: 272ms\n",
      "914:\tlearn: 0.3859905\ttotal: 2.89s\tremaining: 269ms\n",
      "915:\tlearn: 0.3858726\ttotal: 2.9s\tremaining: 266ms\n",
      "916:\tlearn: 0.3858086\ttotal: 2.9s\tremaining: 263ms\n",
      "917:\tlearn: 0.3857621\ttotal: 2.9s\tremaining: 259ms\n",
      "918:\tlearn: 0.3856387\ttotal: 2.91s\tremaining: 256ms\n",
      "919:\tlearn: 0.3855242\ttotal: 2.91s\tremaining: 253ms\n",
      "920:\tlearn: 0.3854842\ttotal: 2.91s\tremaining: 250ms\n",
      "921:\tlearn: 0.3854027\ttotal: 2.91s\tremaining: 247ms\n",
      "922:\tlearn: 0.3852866\ttotal: 2.92s\tremaining: 243ms\n",
      "923:\tlearn: 0.3851773\ttotal: 2.92s\tremaining: 240ms\n",
      "924:\tlearn: 0.3851472\ttotal: 2.92s\tremaining: 237ms\n",
      "925:\tlearn: 0.3850821\ttotal: 2.92s\tremaining: 234ms\n",
      "926:\tlearn: 0.3850266\ttotal: 2.93s\tremaining: 231ms\n",
      "927:\tlearn: 0.3849727\ttotal: 2.93s\tremaining: 227ms\n",
      "928:\tlearn: 0.3849210\ttotal: 2.93s\tremaining: 224ms\n",
      "929:\tlearn: 0.3848481\ttotal: 2.94s\tremaining: 221ms\n",
      "930:\tlearn: 0.3847686\ttotal: 2.94s\tremaining: 218ms\n",
      "931:\tlearn: 0.3847060\ttotal: 2.94s\tremaining: 215ms\n",
      "932:\tlearn: 0.3846337\ttotal: 2.94s\tremaining: 211ms\n",
      "933:\tlearn: 0.3845555\ttotal: 2.95s\tremaining: 208ms\n",
      "934:\tlearn: 0.3844833\ttotal: 2.95s\tremaining: 205ms\n",
      "935:\tlearn: 0.3844159\ttotal: 2.95s\tremaining: 202ms\n",
      "936:\tlearn: 0.3843418\ttotal: 2.95s\tremaining: 199ms\n",
      "937:\tlearn: 0.3843067\ttotal: 2.96s\tremaining: 195ms\n",
      "938:\tlearn: 0.3842697\ttotal: 2.96s\tremaining: 192ms\n",
      "939:\tlearn: 0.3841872\ttotal: 2.96s\tremaining: 189ms\n",
      "940:\tlearn: 0.3841125\ttotal: 2.96s\tremaining: 186ms\n",
      "941:\tlearn: 0.3840295\ttotal: 2.97s\tremaining: 183ms\n",
      "942:\tlearn: 0.3839459\ttotal: 2.97s\tremaining: 180ms\n",
      "943:\tlearn: 0.3839014\ttotal: 2.97s\tremaining: 176ms\n",
      "944:\tlearn: 0.3837830\ttotal: 2.98s\tremaining: 173ms\n",
      "945:\tlearn: 0.3837354\ttotal: 2.98s\tremaining: 170ms\n",
      "946:\tlearn: 0.3836126\ttotal: 2.98s\tremaining: 167ms\n",
      "947:\tlearn: 0.3835460\ttotal: 2.98s\tremaining: 164ms\n",
      "948:\tlearn: 0.3834761\ttotal: 2.99s\tremaining: 161ms\n",
      "949:\tlearn: 0.3834078\ttotal: 2.99s\tremaining: 157ms\n",
      "950:\tlearn: 0.3833275\ttotal: 2.99s\tremaining: 154ms\n",
      "951:\tlearn: 0.3832304\ttotal: 2.99s\tremaining: 151ms\n",
      "952:\tlearn: 0.3831270\ttotal: 3s\tremaining: 148ms\n",
      "953:\tlearn: 0.3830485\ttotal: 3s\tremaining: 145ms\n",
      "954:\tlearn: 0.3830137\ttotal: 3s\tremaining: 141ms\n",
      "955:\tlearn: 0.3829516\ttotal: 3s\tremaining: 138ms\n",
      "956:\tlearn: 0.3828389\ttotal: 3.01s\tremaining: 135ms\n",
      "957:\tlearn: 0.3827431\ttotal: 3.01s\tremaining: 132ms\n",
      "958:\tlearn: 0.3826318\ttotal: 3.01s\tremaining: 129ms\n",
      "959:\tlearn: 0.3825753\ttotal: 3.02s\tremaining: 126ms\n",
      "960:\tlearn: 0.3824445\ttotal: 3.02s\tremaining: 123ms\n",
      "961:\tlearn: 0.3823672\ttotal: 3.02s\tremaining: 119ms\n",
      "962:\tlearn: 0.3823116\ttotal: 3.02s\tremaining: 116ms\n",
      "963:\tlearn: 0.3821830\ttotal: 3.03s\tremaining: 113ms\n",
      "964:\tlearn: 0.3821259\ttotal: 3.03s\tremaining: 110ms\n",
      "965:\tlearn: 0.3821110\ttotal: 3.03s\tremaining: 107ms\n",
      "966:\tlearn: 0.3820790\ttotal: 3.04s\tremaining: 104ms\n",
      "967:\tlearn: 0.3820012\ttotal: 3.04s\tremaining: 100ms\n",
      "968:\tlearn: 0.3818894\ttotal: 3.04s\tremaining: 97.3ms\n",
      "969:\tlearn: 0.3817999\ttotal: 3.04s\tremaining: 94.1ms\n",
      "970:\tlearn: 0.3817732\ttotal: 3.05s\tremaining: 91ms\n",
      "971:\tlearn: 0.3817356\ttotal: 3.05s\tremaining: 87.8ms\n",
      "972:\tlearn: 0.3816726\ttotal: 3.05s\tremaining: 84.7ms\n",
      "973:\tlearn: 0.3816244\ttotal: 3.06s\tremaining: 81.6ms\n",
      "974:\tlearn: 0.3815625\ttotal: 3.06s\tremaining: 78.4ms\n",
      "975:\tlearn: 0.3815092\ttotal: 3.06s\tremaining: 75.3ms\n",
      "976:\tlearn: 0.3814389\ttotal: 3.06s\tremaining: 72.1ms\n",
      "977:\tlearn: 0.3813337\ttotal: 3.07s\tremaining: 69ms\n",
      "978:\tlearn: 0.3812782\ttotal: 3.07s\tremaining: 65.9ms\n",
      "979:\tlearn: 0.3811732\ttotal: 3.07s\tremaining: 62.7ms\n",
      "980:\tlearn: 0.3810998\ttotal: 3.08s\tremaining: 59.6ms\n",
      "981:\tlearn: 0.3809846\ttotal: 3.08s\tremaining: 56.5ms\n",
      "982:\tlearn: 0.3808824\ttotal: 3.08s\tremaining: 53.3ms\n",
      "983:\tlearn: 0.3808333\ttotal: 3.08s\tremaining: 50.2ms\n",
      "984:\tlearn: 0.3806946\ttotal: 3.09s\tremaining: 47ms\n",
      "985:\tlearn: 0.3806571\ttotal: 3.09s\tremaining: 43.9ms\n",
      "986:\tlearn: 0.3805396\ttotal: 3.09s\tremaining: 40.7ms\n",
      "987:\tlearn: 0.3804794\ttotal: 3.1s\tremaining: 37.6ms\n",
      "988:\tlearn: 0.3803298\ttotal: 3.1s\tremaining: 34.5ms\n",
      "989:\tlearn: 0.3802532\ttotal: 3.1s\tremaining: 31.3ms\n",
      "990:\tlearn: 0.3800540\ttotal: 3.1s\tremaining: 28.2ms\n",
      "991:\tlearn: 0.3800019\ttotal: 3.11s\tremaining: 25.1ms\n",
      "992:\tlearn: 0.3799515\ttotal: 3.11s\tremaining: 21.9ms\n",
      "993:\tlearn: 0.3799089\ttotal: 3.11s\tremaining: 18.8ms\n",
      "994:\tlearn: 0.3798498\ttotal: 3.12s\tremaining: 15.7ms\n",
      "995:\tlearn: 0.3797510\ttotal: 3.12s\tremaining: 12.5ms\n",
      "996:\tlearn: 0.3796925\ttotal: 3.12s\tremaining: 9.39ms\n",
      "997:\tlearn: 0.3796096\ttotal: 3.12s\tremaining: 6.26ms\n",
      "998:\tlearn: 0.3795537\ttotal: 3.13s\tremaining: 3.13ms\n",
      "999:\tlearn: 0.3794614\ttotal: 3.13s\tremaining: 0us\n"
     ]
    },
    {
     "output_type": "execute_result",
     "data": {
      "text/plain": [
       "<catboost.core.CatBoostClassifier at 0x21f72b26b50>"
      ]
     },
     "metadata": {},
     "execution_count": 58
    }
   ],
   "source": [
    "SDG_Model.fit(X_Train,y_Train)\n",
    "# NN_Model.fit(X_Train,y_Train)\n",
    "KNC_Model.fit(X_Train,y_Train)\n",
    "RFC_Model.fit(X_Train,y_Train)\n",
    "LR_Model.fit(X_Train,y_Train)\n",
    "LSVC_Model.fit(X_Train,y_Train)\n",
    "GNB_Model.fit(X_Train,y_Train)\n",
    "CBC_Model.fit(X_Train,y_Train)"
   ]
  },
  {
   "cell_type": "code",
   "execution_count": 55,
   "metadata": {},
   "outputs": [],
   "source": [
    "# import evaluation metrics\n",
    "from sklearn.metrics import accuracy_score,confusion_matrix,classification_report"
   ]
  },
  {
   "cell_type": "code",
   "execution_count": 64,
   "metadata": {},
   "outputs": [
    {
     "output_type": "stream",
     "name": "stdout",
     "text": [
      "Error rate of SGD Classifier:                precision    recall  f1-score   support\n\n           0       0.83      0.89      0.86      1833\n           1       0.49      0.36      0.42       530\n\n    accuracy                           0.77      2363\n   macro avg       0.66      0.63      0.64      2363\nweighted avg       0.75      0.77      0.76      2363\n\nError rate of K Neighbors Classifier:                precision    recall  f1-score   support\n\n           0       0.79      0.91      0.85      1833\n           1       0.38      0.18      0.24       530\n\n    accuracy                           0.75      2363\n   macro avg       0.58      0.55      0.55      2363\nweighted avg       0.70      0.75      0.71      2363\n\nError rate of Random Forest Classifier:                precision    recall  f1-score   support\n\n           0       0.81      0.91      0.86      1833\n           1       0.46      0.26      0.33       530\n\n    accuracy                           0.77      2363\n   macro avg       0.64      0.59      0.60      2363\nweighted avg       0.73      0.77      0.74      2363\n\n"
     ]
    },
    {
     "output_type": "error",
     "ename": "ValueError",
     "evalue": "Classification metrics can't handle a mix of binary and continuous targets",
     "traceback": [
      "\u001b[1;31m---------------------------------------------------------------------------\u001b[0m",
      "\u001b[1;31mValueError\u001b[0m                                Traceback (most recent call last)",
      "\u001b[1;32m<ipython-input-64-0c99783a218c>\u001b[0m in \u001b[0;36m<module>\u001b[1;34m\u001b[0m\n\u001b[0;32m     14\u001b[0m \u001b[0mprint\u001b[0m\u001b[1;33m(\u001b[0m\u001b[1;34m\"Error rate of K Neighbors Classifier: \"\u001b[0m\u001b[1;33m,\u001b[0m \u001b[0mclassification_report\u001b[0m\u001b[1;33m(\u001b[0m\u001b[0my_Test\u001b[0m\u001b[1;33m,\u001b[0m\u001b[0mKNC_Model_pred\u001b[0m\u001b[1;33m)\u001b[0m\u001b[1;33m)\u001b[0m\u001b[1;33m\u001b[0m\u001b[1;33m\u001b[0m\u001b[0m\n\u001b[0;32m     15\u001b[0m \u001b[0mprint\u001b[0m\u001b[1;33m(\u001b[0m\u001b[1;34m\"Error rate of Random Forest Classifier: \"\u001b[0m\u001b[1;33m,\u001b[0m \u001b[0mclassification_report\u001b[0m\u001b[1;33m(\u001b[0m\u001b[0my_Test\u001b[0m\u001b[1;33m,\u001b[0m\u001b[0mRFC_Model_pred\u001b[0m\u001b[1;33m)\u001b[0m\u001b[1;33m)\u001b[0m\u001b[1;33m\u001b[0m\u001b[1;33m\u001b[0m\u001b[0m\n\u001b[1;32m---> 16\u001b[1;33m \u001b[0mprint\u001b[0m\u001b[1;33m(\u001b[0m\u001b[1;34m\"Error rate of Linear Regression: \"\u001b[0m\u001b[1;33m,\u001b[0m \u001b[0mclassification_report\u001b[0m\u001b[1;33m(\u001b[0m\u001b[0my_Test\u001b[0m\u001b[1;33m,\u001b[0m\u001b[0mLR_Model_pred\u001b[0m\u001b[1;33m)\u001b[0m\u001b[1;33m)\u001b[0m\u001b[1;33m\u001b[0m\u001b[1;33m\u001b[0m\u001b[0m\n\u001b[0m\u001b[0;32m     17\u001b[0m \u001b[0mprint\u001b[0m\u001b[1;33m(\u001b[0m\u001b[1;34m\"Error rate of LinearSVC : \"\u001b[0m\u001b[1;33m,\u001b[0m \u001b[0mclassification_report\u001b[0m\u001b[1;33m(\u001b[0m\u001b[0my_Test\u001b[0m\u001b[1;33m,\u001b[0m\u001b[0mLSVC_Model_pred\u001b[0m\u001b[1;33m)\u001b[0m\u001b[1;33m)\u001b[0m\u001b[1;33m\u001b[0m\u001b[1;33m\u001b[0m\u001b[0m\n\u001b[0;32m     18\u001b[0m \u001b[0mprint\u001b[0m\u001b[1;33m(\u001b[0m\u001b[1;34m\"Error rate of Gaussian NB classifier: \"\u001b[0m\u001b[1;33m,\u001b[0m \u001b[0mclassification_report\u001b[0m\u001b[1;33m(\u001b[0m\u001b[0my_Test\u001b[0m\u001b[1;33m,\u001b[0m\u001b[0mGNB_Model_pred\u001b[0m\u001b[1;33m)\u001b[0m\u001b[1;33m)\u001b[0m\u001b[1;33m\u001b[0m\u001b[1;33m\u001b[0m\u001b[0m\n",
      "\u001b[1;32m~\\anaconda3\\lib\\site-packages\\sklearn\\utils\\validation.py\u001b[0m in \u001b[0;36minner_f\u001b[1;34m(*args, **kwargs)\u001b[0m\n\u001b[0;32m     70\u001b[0m                           FutureWarning)\n\u001b[0;32m     71\u001b[0m         \u001b[0mkwargs\u001b[0m\u001b[1;33m.\u001b[0m\u001b[0mupdate\u001b[0m\u001b[1;33m(\u001b[0m\u001b[1;33m{\u001b[0m\u001b[0mk\u001b[0m\u001b[1;33m:\u001b[0m \u001b[0marg\u001b[0m \u001b[1;32mfor\u001b[0m \u001b[0mk\u001b[0m\u001b[1;33m,\u001b[0m \u001b[0marg\u001b[0m \u001b[1;32min\u001b[0m \u001b[0mzip\u001b[0m\u001b[1;33m(\u001b[0m\u001b[0msig\u001b[0m\u001b[1;33m.\u001b[0m\u001b[0mparameters\u001b[0m\u001b[1;33m,\u001b[0m \u001b[0margs\u001b[0m\u001b[1;33m)\u001b[0m\u001b[1;33m}\u001b[0m\u001b[1;33m)\u001b[0m\u001b[1;33m\u001b[0m\u001b[1;33m\u001b[0m\u001b[0m\n\u001b[1;32m---> 72\u001b[1;33m         \u001b[1;32mreturn\u001b[0m \u001b[0mf\u001b[0m\u001b[1;33m(\u001b[0m\u001b[1;33m**\u001b[0m\u001b[0mkwargs\u001b[0m\u001b[1;33m)\u001b[0m\u001b[1;33m\u001b[0m\u001b[1;33m\u001b[0m\u001b[0m\n\u001b[0m\u001b[0;32m     73\u001b[0m     \u001b[1;32mreturn\u001b[0m \u001b[0minner_f\u001b[0m\u001b[1;33m\u001b[0m\u001b[1;33m\u001b[0m\u001b[0m\n\u001b[0;32m     74\u001b[0m \u001b[1;33m\u001b[0m\u001b[0m\n",
      "\u001b[1;32m~\\anaconda3\\lib\\site-packages\\sklearn\\metrics\\_classification.py\u001b[0m in \u001b[0;36mclassification_report\u001b[1;34m(y_true, y_pred, labels, target_names, sample_weight, digits, output_dict, zero_division)\u001b[0m\n\u001b[0;32m   1927\u001b[0m     \"\"\"\n\u001b[0;32m   1928\u001b[0m \u001b[1;33m\u001b[0m\u001b[0m\n\u001b[1;32m-> 1929\u001b[1;33m     \u001b[0my_type\u001b[0m\u001b[1;33m,\u001b[0m \u001b[0my_true\u001b[0m\u001b[1;33m,\u001b[0m \u001b[0my_pred\u001b[0m \u001b[1;33m=\u001b[0m \u001b[0m_check_targets\u001b[0m\u001b[1;33m(\u001b[0m\u001b[0my_true\u001b[0m\u001b[1;33m,\u001b[0m \u001b[0my_pred\u001b[0m\u001b[1;33m)\u001b[0m\u001b[1;33m\u001b[0m\u001b[1;33m\u001b[0m\u001b[0m\n\u001b[0m\u001b[0;32m   1930\u001b[0m \u001b[1;33m\u001b[0m\u001b[0m\n\u001b[0;32m   1931\u001b[0m     \u001b[0mlabels_given\u001b[0m \u001b[1;33m=\u001b[0m \u001b[1;32mTrue\u001b[0m\u001b[1;33m\u001b[0m\u001b[1;33m\u001b[0m\u001b[0m\n",
      "\u001b[1;32m~\\anaconda3\\lib\\site-packages\\sklearn\\metrics\\_classification.py\u001b[0m in \u001b[0;36m_check_targets\u001b[1;34m(y_true, y_pred)\u001b[0m\n\u001b[0;32m     88\u001b[0m \u001b[1;33m\u001b[0m\u001b[0m\n\u001b[0;32m     89\u001b[0m     \u001b[1;32mif\u001b[0m \u001b[0mlen\u001b[0m\u001b[1;33m(\u001b[0m\u001b[0my_type\u001b[0m\u001b[1;33m)\u001b[0m \u001b[1;33m>\u001b[0m \u001b[1;36m1\u001b[0m\u001b[1;33m:\u001b[0m\u001b[1;33m\u001b[0m\u001b[1;33m\u001b[0m\u001b[0m\n\u001b[1;32m---> 90\u001b[1;33m         raise ValueError(\"Classification metrics can't handle a mix of {0} \"\n\u001b[0m\u001b[0;32m     91\u001b[0m                          \"and {1} targets\".format(type_true, type_pred))\n\u001b[0;32m     92\u001b[0m \u001b[1;33m\u001b[0m\u001b[0m\n",
      "\u001b[1;31mValueError\u001b[0m: Classification metrics can't handle a mix of binary and continuous targets"
     ]
    }
   ],
   "source": [
    "\n",
    "# evaluate the model\n",
    "SDG_Model_pred = SDG_Model.predict(X_Test)\n",
    "# NN_Model_pred =  NN_Model.kneighbors(X_Test)\n",
    "KNC_Model_pred =  KNC_Model.predict(X_Test)\n",
    "RFC_Model_pred =  RFC_Model.predict(X_Test)\n",
    "LR_Model_pred = LR_Model.predict(X_Test)\n",
    "LSVC_Model_pred  = LSVC_Model.predict(X_Test)\n",
    "GNB_Model_pred  = GNB_Model.predict(X_Test)\n",
    "CBC_Model_pred =  CBC_Model.predict(X_Test)\n",
    "\n",
    "\n",
    "print(\"Error rate of SGD Classifier: \", classification_report(y_Test,SDG_Model_pred))\n",
    "# print(\"Error rate of NearestNeighbors: \", classification_report(y_Test,NN_Model_pred))\n",
    "print(\"Error rate of K Neighbors Classifier: \", classification_report(y_Test,KNC_Model_pred))\n",
    "print(\"Error rate of Random Forest Classifier: \", classification_report(y_Test,RFC_Model_pred))\n",
    "# print(\"Error rate of Linear Regression: \", classification_report(y_Test,LR_Model_pred))\n",
    "print(\"Error rate of LinearSVC : \", classification_report(y_Test,LSVC_Model_pred))\n",
    "print(\"Error rate of Gaussian NB classifier: \", classification_report(y_Test,GNB_Model_pred))\n",
    "print(\"Error rate of Cat Boost classifier: \", classification_report(y_Test,CBC_Model_pred))\n",
    "\n",
    "# # Get error rate\n",
    "# print(\"Error rate of Random Forest classifier: \", 1 - accuracy_score(y_Test, RFC_y_pred ))\n",
    "# print(\"Error rate of KNeighbors Classifier: \", 1 - accuracy_score(y_Test, KNC_y_pred))\n",
    "# print(\"Error rate of LogisticRegression : \", 1 - accuracy_score(y_Test, LR_y_pred))\n",
    "# print(\"Error rate of GaussianNB classifier: \", 1 - accuracy_score(y_Test, GNB_y_pred))\n",
    "# print(\"Error rate of  DecisionTreeclassifier: \", 1 - accuracy_score(y_Test, Treat_y_pred))\n",
    "# print(\"Error rate of  catboostclassifier: \", 1 - accuracy_score(y_Test, Catboos_y_pred))"
   ]
  },
  {
   "cell_type": "code",
   "execution_count": null,
   "metadata": {},
   "outputs": [],
   "source": []
  }
 ]
}